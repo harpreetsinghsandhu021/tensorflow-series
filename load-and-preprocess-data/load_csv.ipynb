{
  "cells": [
    {
      "cell_type": "markdown",
      "id": "c6ed47ca-a1aa-4df4-b706-aa65cb727bc5",
      "metadata": {
        "id": "c6ed47ca-a1aa-4df4-b706-aa65cb727bc5"
      },
      "source": [
        "## Load Csv Data"
      ]
    },
    {
      "cell_type": "code",
      "execution_count": 1,
      "id": "efe24557-4667-4e7e-88b6-bfc51ba1ef98",
      "metadata": {
        "id": "efe24557-4667-4e7e-88b6-bfc51ba1ef98"
      },
      "outputs": [],
      "source": [
        "import pandas as pd\n",
        "import numpy as np\n",
        "\n",
        "import tensorflow as tf\n",
        "from tensorflow.keras import layers"
      ]
    },
    {
      "cell_type": "markdown",
      "id": "8dd91750-a645-49d9-92c6-76066a6a9936",
      "metadata": {
        "id": "8dd91750-a645-49d9-92c6-76066a6a9936"
      },
      "source": [
        "## In memory data\n",
        "For any small CSV dataset, the simplest way to train a tensorflow model on it is to load it into memory as pandas dataframe or numpy array"
      ]
    },
    {
      "cell_type": "code",
      "execution_count": 2,
      "id": "0bf8f2cd-f9bb-42b8-8943-157f0a8d9203",
      "metadata": {
        "id": "0bf8f2cd-f9bb-42b8-8943-157f0a8d9203"
      },
      "outputs": [],
      "source": [
        "abalone_train = pd.read_csv(\n",
        "                            \"https://storage.googleapis.com/download.tensorflow.org/data/abalone_train.csv\",\n",
        "                            names=[\"Length\", \"Diameter\", \"Height\", \"Whole weight\", \"Shucked weight\",\n",
        "                            \"Viscera weight\", \"Shell weight\", \"Age\"])"
      ]
    },
    {
      "cell_type": "code",
      "execution_count": 3,
      "id": "48c47230-5b02-4080-8535-b0ba0927fb30",
      "metadata": {
        "colab": {
          "base_uri": "https://localhost:8080/",
          "height": 206
        },
        "id": "48c47230-5b02-4080-8535-b0ba0927fb30",
        "outputId": "9e797eff-8740-452f-e64f-84aa851a7dc3"
      },
      "outputs": [
        {
          "output_type": "execute_result",
          "data": {
            "text/plain": [
              "   Length  Diameter  Height  Whole weight  Shucked weight  Viscera weight  \\\n",
              "0   0.435     0.335   0.110         0.334          0.1355          0.0775   \n",
              "1   0.585     0.450   0.125         0.874          0.3545          0.2075   \n",
              "2   0.655     0.510   0.160         1.092          0.3960          0.2825   \n",
              "3   0.545     0.425   0.125         0.768          0.2940          0.1495   \n",
              "4   0.545     0.420   0.130         0.879          0.3740          0.1695   \n",
              "\n",
              "   Shell weight  Age  \n",
              "0        0.0965    7  \n",
              "1        0.2250    6  \n",
              "2        0.3700   14  \n",
              "3        0.2600   16  \n",
              "4        0.2300   13  "
            ],
            "text/html": [
              "\n",
              "  <div id=\"df-8ae89d7c-b143-4b6d-938c-660ecf0aa7a4\" class=\"colab-df-container\">\n",
              "    <div>\n",
              "<style scoped>\n",
              "    .dataframe tbody tr th:only-of-type {\n",
              "        vertical-align: middle;\n",
              "    }\n",
              "\n",
              "    .dataframe tbody tr th {\n",
              "        vertical-align: top;\n",
              "    }\n",
              "\n",
              "    .dataframe thead th {\n",
              "        text-align: right;\n",
              "    }\n",
              "</style>\n",
              "<table border=\"1\" class=\"dataframe\">\n",
              "  <thead>\n",
              "    <tr style=\"text-align: right;\">\n",
              "      <th></th>\n",
              "      <th>Length</th>\n",
              "      <th>Diameter</th>\n",
              "      <th>Height</th>\n",
              "      <th>Whole weight</th>\n",
              "      <th>Shucked weight</th>\n",
              "      <th>Viscera weight</th>\n",
              "      <th>Shell weight</th>\n",
              "      <th>Age</th>\n",
              "    </tr>\n",
              "  </thead>\n",
              "  <tbody>\n",
              "    <tr>\n",
              "      <th>0</th>\n",
              "      <td>0.435</td>\n",
              "      <td>0.335</td>\n",
              "      <td>0.110</td>\n",
              "      <td>0.334</td>\n",
              "      <td>0.1355</td>\n",
              "      <td>0.0775</td>\n",
              "      <td>0.0965</td>\n",
              "      <td>7</td>\n",
              "    </tr>\n",
              "    <tr>\n",
              "      <th>1</th>\n",
              "      <td>0.585</td>\n",
              "      <td>0.450</td>\n",
              "      <td>0.125</td>\n",
              "      <td>0.874</td>\n",
              "      <td>0.3545</td>\n",
              "      <td>0.2075</td>\n",
              "      <td>0.2250</td>\n",
              "      <td>6</td>\n",
              "    </tr>\n",
              "    <tr>\n",
              "      <th>2</th>\n",
              "      <td>0.655</td>\n",
              "      <td>0.510</td>\n",
              "      <td>0.160</td>\n",
              "      <td>1.092</td>\n",
              "      <td>0.3960</td>\n",
              "      <td>0.2825</td>\n",
              "      <td>0.3700</td>\n",
              "      <td>14</td>\n",
              "    </tr>\n",
              "    <tr>\n",
              "      <th>3</th>\n",
              "      <td>0.545</td>\n",
              "      <td>0.425</td>\n",
              "      <td>0.125</td>\n",
              "      <td>0.768</td>\n",
              "      <td>0.2940</td>\n",
              "      <td>0.1495</td>\n",
              "      <td>0.2600</td>\n",
              "      <td>16</td>\n",
              "    </tr>\n",
              "    <tr>\n",
              "      <th>4</th>\n",
              "      <td>0.545</td>\n",
              "      <td>0.420</td>\n",
              "      <td>0.130</td>\n",
              "      <td>0.879</td>\n",
              "      <td>0.3740</td>\n",
              "      <td>0.1695</td>\n",
              "      <td>0.2300</td>\n",
              "      <td>13</td>\n",
              "    </tr>\n",
              "  </tbody>\n",
              "</table>\n",
              "</div>\n",
              "    <div class=\"colab-df-buttons\">\n",
              "\n",
              "  <div class=\"colab-df-container\">\n",
              "    <button class=\"colab-df-convert\" onclick=\"convertToInteractive('df-8ae89d7c-b143-4b6d-938c-660ecf0aa7a4')\"\n",
              "            title=\"Convert this dataframe to an interactive table.\"\n",
              "            style=\"display:none;\">\n",
              "\n",
              "  <svg xmlns=\"http://www.w3.org/2000/svg\" height=\"24px\" viewBox=\"0 -960 960 960\">\n",
              "    <path d=\"M120-120v-720h720v720H120Zm60-500h600v-160H180v160Zm220 220h160v-160H400v160Zm0 220h160v-160H400v160ZM180-400h160v-160H180v160Zm440 0h160v-160H620v160ZM180-180h160v-160H180v160Zm440 0h160v-160H620v160Z\"/>\n",
              "  </svg>\n",
              "    </button>\n",
              "\n",
              "  <style>\n",
              "    .colab-df-container {\n",
              "      display:flex;\n",
              "      gap: 12px;\n",
              "    }\n",
              "\n",
              "    .colab-df-convert {\n",
              "      background-color: #E8F0FE;\n",
              "      border: none;\n",
              "      border-radius: 50%;\n",
              "      cursor: pointer;\n",
              "      display: none;\n",
              "      fill: #1967D2;\n",
              "      height: 32px;\n",
              "      padding: 0 0 0 0;\n",
              "      width: 32px;\n",
              "    }\n",
              "\n",
              "    .colab-df-convert:hover {\n",
              "      background-color: #E2EBFA;\n",
              "      box-shadow: 0px 1px 2px rgba(60, 64, 67, 0.3), 0px 1px 3px 1px rgba(60, 64, 67, 0.15);\n",
              "      fill: #174EA6;\n",
              "    }\n",
              "\n",
              "    .colab-df-buttons div {\n",
              "      margin-bottom: 4px;\n",
              "    }\n",
              "\n",
              "    [theme=dark] .colab-df-convert {\n",
              "      background-color: #3B4455;\n",
              "      fill: #D2E3FC;\n",
              "    }\n",
              "\n",
              "    [theme=dark] .colab-df-convert:hover {\n",
              "      background-color: #434B5C;\n",
              "      box-shadow: 0px 1px 3px 1px rgba(0, 0, 0, 0.15);\n",
              "      filter: drop-shadow(0px 1px 2px rgba(0, 0, 0, 0.3));\n",
              "      fill: #FFFFFF;\n",
              "    }\n",
              "  </style>\n",
              "\n",
              "    <script>\n",
              "      const buttonEl =\n",
              "        document.querySelector('#df-8ae89d7c-b143-4b6d-938c-660ecf0aa7a4 button.colab-df-convert');\n",
              "      buttonEl.style.display =\n",
              "        google.colab.kernel.accessAllowed ? 'block' : 'none';\n",
              "\n",
              "      async function convertToInteractive(key) {\n",
              "        const element = document.querySelector('#df-8ae89d7c-b143-4b6d-938c-660ecf0aa7a4');\n",
              "        const dataTable =\n",
              "          await google.colab.kernel.invokeFunction('convertToInteractive',\n",
              "                                                    [key], {});\n",
              "        if (!dataTable) return;\n",
              "\n",
              "        const docLinkHtml = 'Like what you see? Visit the ' +\n",
              "          '<a target=\"_blank\" href=https://colab.research.google.com/notebooks/data_table.ipynb>data table notebook</a>'\n",
              "          + ' to learn more about interactive tables.';\n",
              "        element.innerHTML = '';\n",
              "        dataTable['output_type'] = 'display_data';\n",
              "        await google.colab.output.renderOutput(dataTable, element);\n",
              "        const docLink = document.createElement('div');\n",
              "        docLink.innerHTML = docLinkHtml;\n",
              "        element.appendChild(docLink);\n",
              "      }\n",
              "    </script>\n",
              "  </div>\n",
              "\n",
              "\n",
              "<div id=\"df-7f407761-be5d-4dff-9270-4c8c61c4e4ef\">\n",
              "  <button class=\"colab-df-quickchart\" onclick=\"quickchart('df-7f407761-be5d-4dff-9270-4c8c61c4e4ef')\"\n",
              "            title=\"Suggest charts\"\n",
              "            style=\"display:none;\">\n",
              "\n",
              "<svg xmlns=\"http://www.w3.org/2000/svg\" height=\"24px\"viewBox=\"0 0 24 24\"\n",
              "     width=\"24px\">\n",
              "    <g>\n",
              "        <path d=\"M19 3H5c-1.1 0-2 .9-2 2v14c0 1.1.9 2 2 2h14c1.1 0 2-.9 2-2V5c0-1.1-.9-2-2-2zM9 17H7v-7h2v7zm4 0h-2V7h2v10zm4 0h-2v-4h2v4z\"/>\n",
              "    </g>\n",
              "</svg>\n",
              "  </button>\n",
              "\n",
              "<style>\n",
              "  .colab-df-quickchart {\n",
              "      --bg-color: #E8F0FE;\n",
              "      --fill-color: #1967D2;\n",
              "      --hover-bg-color: #E2EBFA;\n",
              "      --hover-fill-color: #174EA6;\n",
              "      --disabled-fill-color: #AAA;\n",
              "      --disabled-bg-color: #DDD;\n",
              "  }\n",
              "\n",
              "  [theme=dark] .colab-df-quickchart {\n",
              "      --bg-color: #3B4455;\n",
              "      --fill-color: #D2E3FC;\n",
              "      --hover-bg-color: #434B5C;\n",
              "      --hover-fill-color: #FFFFFF;\n",
              "      --disabled-bg-color: #3B4455;\n",
              "      --disabled-fill-color: #666;\n",
              "  }\n",
              "\n",
              "  .colab-df-quickchart {\n",
              "    background-color: var(--bg-color);\n",
              "    border: none;\n",
              "    border-radius: 50%;\n",
              "    cursor: pointer;\n",
              "    display: none;\n",
              "    fill: var(--fill-color);\n",
              "    height: 32px;\n",
              "    padding: 0;\n",
              "    width: 32px;\n",
              "  }\n",
              "\n",
              "  .colab-df-quickchart:hover {\n",
              "    background-color: var(--hover-bg-color);\n",
              "    box-shadow: 0 1px 2px rgba(60, 64, 67, 0.3), 0 1px 3px 1px rgba(60, 64, 67, 0.15);\n",
              "    fill: var(--button-hover-fill-color);\n",
              "  }\n",
              "\n",
              "  .colab-df-quickchart-complete:disabled,\n",
              "  .colab-df-quickchart-complete:disabled:hover {\n",
              "    background-color: var(--disabled-bg-color);\n",
              "    fill: var(--disabled-fill-color);\n",
              "    box-shadow: none;\n",
              "  }\n",
              "\n",
              "  .colab-df-spinner {\n",
              "    border: 2px solid var(--fill-color);\n",
              "    border-color: transparent;\n",
              "    border-bottom-color: var(--fill-color);\n",
              "    animation:\n",
              "      spin 1s steps(1) infinite;\n",
              "  }\n",
              "\n",
              "  @keyframes spin {\n",
              "    0% {\n",
              "      border-color: transparent;\n",
              "      border-bottom-color: var(--fill-color);\n",
              "      border-left-color: var(--fill-color);\n",
              "    }\n",
              "    20% {\n",
              "      border-color: transparent;\n",
              "      border-left-color: var(--fill-color);\n",
              "      border-top-color: var(--fill-color);\n",
              "    }\n",
              "    30% {\n",
              "      border-color: transparent;\n",
              "      border-left-color: var(--fill-color);\n",
              "      border-top-color: var(--fill-color);\n",
              "      border-right-color: var(--fill-color);\n",
              "    }\n",
              "    40% {\n",
              "      border-color: transparent;\n",
              "      border-right-color: var(--fill-color);\n",
              "      border-top-color: var(--fill-color);\n",
              "    }\n",
              "    60% {\n",
              "      border-color: transparent;\n",
              "      border-right-color: var(--fill-color);\n",
              "    }\n",
              "    80% {\n",
              "      border-color: transparent;\n",
              "      border-right-color: var(--fill-color);\n",
              "      border-bottom-color: var(--fill-color);\n",
              "    }\n",
              "    90% {\n",
              "      border-color: transparent;\n",
              "      border-bottom-color: var(--fill-color);\n",
              "    }\n",
              "  }\n",
              "</style>\n",
              "\n",
              "  <script>\n",
              "    async function quickchart(key) {\n",
              "      const quickchartButtonEl =\n",
              "        document.querySelector('#' + key + ' button');\n",
              "      quickchartButtonEl.disabled = true;  // To prevent multiple clicks.\n",
              "      quickchartButtonEl.classList.add('colab-df-spinner');\n",
              "      try {\n",
              "        const charts = await google.colab.kernel.invokeFunction(\n",
              "            'suggestCharts', [key], {});\n",
              "      } catch (error) {\n",
              "        console.error('Error during call to suggestCharts:', error);\n",
              "      }\n",
              "      quickchartButtonEl.classList.remove('colab-df-spinner');\n",
              "      quickchartButtonEl.classList.add('colab-df-quickchart-complete');\n",
              "    }\n",
              "    (() => {\n",
              "      let quickchartButtonEl =\n",
              "        document.querySelector('#df-7f407761-be5d-4dff-9270-4c8c61c4e4ef button');\n",
              "      quickchartButtonEl.style.display =\n",
              "        google.colab.kernel.accessAllowed ? 'block' : 'none';\n",
              "    })();\n",
              "  </script>\n",
              "</div>\n",
              "\n",
              "    </div>\n",
              "  </div>\n"
            ],
            "application/vnd.google.colaboratory.intrinsic+json": {
              "type": "dataframe",
              "variable_name": "abalone_train",
              "summary": "{\n  \"name\": \"abalone_train\",\n  \"rows\": 3320,\n  \"fields\": [\n    {\n      \"column\": \"Length\",\n      \"properties\": {\n        \"dtype\": \"number\",\n        \"std\": 0.12116373129783752,\n        \"min\": 0.075,\n        \"max\": 0.815,\n        \"num_unique_values\": 132,\n        \"samples\": [\n          0.64,\n          0.26,\n          0.575\n        ],\n        \"semantic_type\": \"\",\n        \"description\": \"\"\n      }\n    },\n    {\n      \"column\": \"Diameter\",\n      \"properties\": {\n        \"dtype\": \"number\",\n        \"std\": 0.1001199358725016,\n        \"min\": 0.055,\n        \"max\": 0.65,\n        \"num_unique_values\": 110,\n        \"samples\": [\n          0.23,\n          0.3,\n          0.42\n        ],\n        \"semantic_type\": \"\",\n        \"description\": \"\"\n      }\n    },\n    {\n      \"column\": \"Height\",\n      \"properties\": {\n        \"dtype\": \"number\",\n        \"std\": 0.042708242545774135,\n        \"min\": 0.0,\n        \"max\": 1.13,\n        \"num_unique_values\": 51,\n        \"samples\": [\n          0.22,\n          0.04,\n          0.015\n        ],\n        \"semantic_type\": \"\",\n        \"description\": \"\"\n      }\n    },\n    {\n      \"column\": \"Whole weight\",\n      \"properties\": {\n        \"dtype\": \"number\",\n        \"std\": 0.49118197923811296,\n        \"min\": 0.002,\n        \"max\": 2.8255,\n        \"num_unique_values\": 2145,\n        \"samples\": [\n          1.145,\n          0.499,\n          0.9415\n        ],\n        \"semantic_type\": \"\",\n        \"description\": \"\"\n      }\n    },\n    {\n      \"column\": \"Shucked weight\",\n      \"properties\": {\n        \"dtype\": \"number\",\n        \"std\": 0.22222323442145436,\n        \"min\": 0.001,\n        \"max\": 1.488,\n        \"num_unique_values\": 1409,\n        \"samples\": [\n          0.13,\n          0.4,\n          0.214\n        ],\n        \"semantic_type\": \"\",\n        \"description\": \"\"\n      }\n    },\n    {\n      \"column\": \"Viscera weight\",\n      \"properties\": {\n        \"dtype\": \"number\",\n        \"std\": 0.1101817715893136,\n        \"min\": 0.0005,\n        \"max\": 0.76,\n        \"num_unique_values\": 845,\n        \"samples\": [\n          0.097,\n          0.071,\n          0.541\n        ],\n        \"semantic_type\": \"\",\n        \"description\": \"\"\n      }\n    },\n    {\n      \"column\": \"Shell weight\",\n      \"properties\": {\n        \"dtype\": \"number\",\n        \"std\": 0.14026098949905869,\n        \"min\": 0.0015,\n        \"max\": 1.005,\n        \"num_unique_values\": 855,\n        \"samples\": [\n          0.3045,\n          0.1255,\n          0.2035\n        ],\n        \"semantic_type\": \"\",\n        \"description\": \"\"\n      }\n    },\n    {\n      \"column\": \"Age\",\n      \"properties\": {\n        \"dtype\": \"number\",\n        \"std\": 3,\n        \"min\": 1,\n        \"max\": 27,\n        \"num_unique_values\": 26,\n        \"samples\": [\n          12,\n          4,\n          7\n        ],\n        \"semantic_type\": \"\",\n        \"description\": \"\"\n      }\n    }\n  ]\n}"
            }
          },
          "metadata": {},
          "execution_count": 3
        }
      ],
      "source": [
        "abalone_train.head()"
      ]
    },
    {
      "cell_type": "markdown",
      "id": "429205ee-3d8a-4537-b5cf-3164deb0dc0a",
      "metadata": {
        "id": "429205ee-3d8a-4537-b5cf-3164deb0dc0a"
      },
      "source": [
        "The dataset contains a set of measurements of abalone, a type of sea snail."
      ]
    },
    {
      "cell_type": "markdown",
      "id": "f66e5196-6deb-4c84-a957-1f651c87216e",
      "metadata": {
        "id": "f66e5196-6deb-4c84-a957-1f651c87216e"
      },
      "source": [
        "The nominal task for this dataset is to predict the age from the other measurements, so separate the features and labels for training:"
      ]
    },
    {
      "cell_type": "code",
      "execution_count": 4,
      "id": "f33d7628-4d81-42f1-9d57-d3cbc880405d",
      "metadata": {
        "id": "f33d7628-4d81-42f1-9d57-d3cbc880405d"
      },
      "outputs": [],
      "source": [
        "abalone_features = abalone_train.copy()\n",
        "abalone_labels = abalone_features.pop('Age')"
      ]
    },
    {
      "cell_type": "code",
      "execution_count": 5,
      "id": "8f7ab34b-a0ae-4ab8-a69c-33508148c7a8",
      "metadata": {
        "colab": {
          "base_uri": "https://localhost:8080/"
        },
        "id": "8f7ab34b-a0ae-4ab8-a69c-33508148c7a8",
        "outputId": "de378a63-0a41-47d3-b1c9-5600dc2c020a"
      },
      "outputs": [
        {
          "output_type": "execute_result",
          "data": {
            "text/plain": [
              "array([[0.435 , 0.335 , 0.11  , ..., 0.1355, 0.0775, 0.0965],\n",
              "       [0.585 , 0.45  , 0.125 , ..., 0.3545, 0.2075, 0.225 ],\n",
              "       [0.655 , 0.51  , 0.16  , ..., 0.396 , 0.2825, 0.37  ],\n",
              "       ...,\n",
              "       [0.53  , 0.42  , 0.13  , ..., 0.3745, 0.167 , 0.249 ],\n",
              "       [0.395 , 0.315 , 0.105 , ..., 0.1185, 0.091 , 0.1195],\n",
              "       [0.45  , 0.355 , 0.12  , ..., 0.1145, 0.0665, 0.16  ]])"
            ]
          },
          "metadata": {},
          "execution_count": 5
        }
      ],
      "source": [
        "# We will treat all features identically so we pack the features into a single numpy array\n",
        "abalone_features = np.array(abalone_features)\n",
        "abalone_features"
      ]
    },
    {
      "cell_type": "markdown",
      "id": "5e07ef0c-8796-4747-9cf7-5318d5058a3e",
      "metadata": {
        "id": "5e07ef0c-8796-4747-9cf7-5318d5058a3e"
      },
      "source": [
        "Now, We make a Regression Model to predict the age. Since there is only a single input tensor, a Sequential Model will do just fine here"
      ]
    },
    {
      "cell_type": "code",
      "execution_count": 6,
      "id": "4f6c66bf-911e-49fd-8c08-7f18fa2a05d4",
      "metadata": {
        "id": "4f6c66bf-911e-49fd-8c08-7f18fa2a05d4"
      },
      "outputs": [],
      "source": [
        "abalone_model = tf.keras.Sequential([\n",
        "    layers.Dense(64, activation='relu'),\n",
        "    layers.Dense(1)\n",
        "])"
      ]
    },
    {
      "cell_type": "code",
      "execution_count": 7,
      "id": "0d501fe2-7362-40a7-a843-ef06476f4466",
      "metadata": {
        "colab": {
          "base_uri": "https://localhost:8080/",
          "height": 199
        },
        "id": "0d501fe2-7362-40a7-a843-ef06476f4466",
        "outputId": "ee8eb8df-5234-4669-ceb0-a2dca95e6b95"
      },
      "outputs": [
        {
          "output_type": "display_data",
          "data": {
            "text/plain": [
              "\u001b[1mModel: \"sequential\"\u001b[0m\n"
            ],
            "text/html": [
              "<pre style=\"white-space:pre;overflow-x:auto;line-height:normal;font-family:Menlo,'DejaVu Sans Mono',consolas,'Courier New',monospace\"><span style=\"font-weight: bold\">Model: \"sequential\"</span>\n",
              "</pre>\n"
            ]
          },
          "metadata": {}
        },
        {
          "output_type": "display_data",
          "data": {
            "text/plain": [
              "┏━━━━━━━━━━━━━━━━━━━━━━━━━━━━━━━━━━━━━━┳━━━━━━━━━━━━━━━━━━━━━━━━━━━━━┳━━━━━━━━━━━━━━━━━┓\n",
              "┃\u001b[1m \u001b[0m\u001b[1mLayer (type)                        \u001b[0m\u001b[1m \u001b[0m┃\u001b[1m \u001b[0m\u001b[1mOutput Shape               \u001b[0m\u001b[1m \u001b[0m┃\u001b[1m \u001b[0m\u001b[1m        Param #\u001b[0m\u001b[1m \u001b[0m┃\n",
              "┡━━━━━━━━━━━━━━━━━━━━━━━━━━━━━━━━━━━━━━╇━━━━━━━━━━━━━━━━━━━━━━━━━━━━━╇━━━━━━━━━━━━━━━━━┩\n",
              "│ dense (\u001b[38;5;33mDense\u001b[0m)                        │ ?                           │     \u001b[38;5;34m0\u001b[0m (unbuilt) │\n",
              "├──────────────────────────────────────┼─────────────────────────────┼─────────────────┤\n",
              "│ dense_1 (\u001b[38;5;33mDense\u001b[0m)                      │ ?                           │     \u001b[38;5;34m0\u001b[0m (unbuilt) │\n",
              "└──────────────────────────────────────┴─────────────────────────────┴─────────────────┘\n"
            ],
            "text/html": [
              "<pre style=\"white-space:pre;overflow-x:auto;line-height:normal;font-family:Menlo,'DejaVu Sans Mono',consolas,'Courier New',monospace\">┏━━━━━━━━━━━━━━━━━━━━━━━━━━━━━━━━━━━━━━┳━━━━━━━━━━━━━━━━━━━━━━━━━━━━━┳━━━━━━━━━━━━━━━━━┓\n",
              "┃<span style=\"font-weight: bold\"> Layer (type)                         </span>┃<span style=\"font-weight: bold\"> Output Shape                </span>┃<span style=\"font-weight: bold\">         Param # </span>┃\n",
              "┡━━━━━━━━━━━━━━━━━━━━━━━━━━━━━━━━━━━━━━╇━━━━━━━━━━━━━━━━━━━━━━━━━━━━━╇━━━━━━━━━━━━━━━━━┩\n",
              "│ dense (<span style=\"color: #0087ff; text-decoration-color: #0087ff\">Dense</span>)                        │ ?                           │     <span style=\"color: #00af00; text-decoration-color: #00af00\">0</span> (unbuilt) │\n",
              "├──────────────────────────────────────┼─────────────────────────────┼─────────────────┤\n",
              "│ dense_1 (<span style=\"color: #0087ff; text-decoration-color: #0087ff\">Dense</span>)                      │ ?                           │     <span style=\"color: #00af00; text-decoration-color: #00af00\">0</span> (unbuilt) │\n",
              "└──────────────────────────────────────┴─────────────────────────────┴─────────────────┘\n",
              "</pre>\n"
            ]
          },
          "metadata": {}
        },
        {
          "output_type": "display_data",
          "data": {
            "text/plain": [
              "\u001b[1m Total params: \u001b[0m\u001b[38;5;34m0\u001b[0m (0.00 B)\n"
            ],
            "text/html": [
              "<pre style=\"white-space:pre;overflow-x:auto;line-height:normal;font-family:Menlo,'DejaVu Sans Mono',consolas,'Courier New',monospace\"><span style=\"font-weight: bold\"> Total params: </span><span style=\"color: #00af00; text-decoration-color: #00af00\">0</span> (0.00 B)\n",
              "</pre>\n"
            ]
          },
          "metadata": {}
        },
        {
          "output_type": "display_data",
          "data": {
            "text/plain": [
              "\u001b[1m Trainable params: \u001b[0m\u001b[38;5;34m0\u001b[0m (0.00 B)\n"
            ],
            "text/html": [
              "<pre style=\"white-space:pre;overflow-x:auto;line-height:normal;font-family:Menlo,'DejaVu Sans Mono',consolas,'Courier New',monospace\"><span style=\"font-weight: bold\"> Trainable params: </span><span style=\"color: #00af00; text-decoration-color: #00af00\">0</span> (0.00 B)\n",
              "</pre>\n"
            ]
          },
          "metadata": {}
        },
        {
          "output_type": "display_data",
          "data": {
            "text/plain": [
              "\u001b[1m Non-trainable params: \u001b[0m\u001b[38;5;34m0\u001b[0m (0.00 B)\n"
            ],
            "text/html": [
              "<pre style=\"white-space:pre;overflow-x:auto;line-height:normal;font-family:Menlo,'DejaVu Sans Mono',consolas,'Courier New',monospace\"><span style=\"font-weight: bold\"> Non-trainable params: </span><span style=\"color: #00af00; text-decoration-color: #00af00\">0</span> (0.00 B)\n",
              "</pre>\n"
            ]
          },
          "metadata": {}
        }
      ],
      "source": [
        "abalone_model.summary()"
      ]
    },
    {
      "cell_type": "code",
      "execution_count": 8,
      "id": "4354ca1b-1249-49dd-8a65-96445d042533",
      "metadata": {
        "id": "4354ca1b-1249-49dd-8a65-96445d042533"
      },
      "outputs": [],
      "source": [
        "abalone_model.compile(loss='mean_squared_error', optimizer='adam')"
      ]
    },
    {
      "cell_type": "code",
      "execution_count": 9,
      "id": "34d6e1ce-f45e-462c-8b38-5f5da48b498d",
      "metadata": {
        "id": "34d6e1ce-f45e-462c-8b38-5f5da48b498d"
      },
      "outputs": [],
      "source": [
        "# abalone_model.fit(abalone_features, abalone_labels, epochs=10)"
      ]
    },
    {
      "cell_type": "markdown",
      "id": "9ce36f46-5517-4065-a08d-d0da438ef518",
      "metadata": {
        "id": "9ce36f46-5517-4065-a08d-d0da438ef518"
      },
      "source": [
        "You have just seen the most basic way to train a model using CSV data. Next, you will learn how to apply preprocessing to normalize numeric columns"
      ]
    },
    {
      "cell_type": "markdown",
      "id": "2c051f98-1381-4db5-92eb-59682d82efc5",
      "metadata": {
        "id": "2c051f98-1381-4db5-92eb-59682d82efc5"
      },
      "source": [
        "## Basic Preprocessing"
      ]
    },
    {
      "cell_type": "markdown",
      "id": "ca1f502f-3a3d-45f7-808d-e37490b492de",
      "metadata": {
        "id": "ca1f502f-3a3d-45f7-808d-e37490b492de"
      },
      "source": [
        "As Always, The Best Practise is to Normalize the inputs"
      ]
    },
    {
      "cell_type": "code",
      "execution_count": 10,
      "id": "9637f593-1b7e-48b6-8dab-d0944083c4c2",
      "metadata": {
        "id": "9637f593-1b7e-48b6-8dab-d0944083c4c2"
      },
      "outputs": [],
      "source": [
        "normalize = layers.Normalization()"
      ]
    },
    {
      "cell_type": "code",
      "execution_count": 11,
      "id": "7741d8fe-2e0d-427e-8b9a-4687059082f8",
      "metadata": {
        "id": "7741d8fe-2e0d-427e-8b9a-4687059082f8"
      },
      "outputs": [],
      "source": [
        "normalize.adapt(abalone_features)"
      ]
    },
    {
      "cell_type": "markdown",
      "id": "4949cb55-4c90-438f-b77c-311f6bd17e60",
      "metadata": {
        "id": "4949cb55-4c90-438f-b77c-311f6bd17e60"
      },
      "source": [
        "Then, Use the Normalization layer in your model"
      ]
    },
    {
      "cell_type": "code",
      "execution_count": 12,
      "id": "b8b55f20-71ae-4114-8250-d5632631ba8d",
      "metadata": {
        "id": "b8b55f20-71ae-4114-8250-d5632631ba8d"
      },
      "outputs": [],
      "source": [
        "norm_abalone_model = tf.keras.Sequential([\n",
        "    normalize,\n",
        "    layers.Dense(64, activation='relu'),\n",
        "    layers.Dense(1)\n",
        "])"
      ]
    },
    {
      "cell_type": "code",
      "execution_count": 13,
      "id": "2228dd48-1a3c-4856-b6f9-f9a2cb83a8de",
      "metadata": {
        "id": "2228dd48-1a3c-4856-b6f9-f9a2cb83a8de"
      },
      "outputs": [],
      "source": [
        "norm_abalone_model.compile(loss='mean_squared_error', optimizer='adam')"
      ]
    },
    {
      "cell_type": "code",
      "execution_count": 14,
      "id": "143f7060-b290-4b37-8b63-8cd6bda233c8",
      "metadata": {
        "scrolled": true,
        "id": "143f7060-b290-4b37-8b63-8cd6bda233c8"
      },
      "outputs": [],
      "source": [
        "# norm_abalone_model.fit(abalone_features, abalone_labels, epochs=10)"
      ]
    },
    {
      "cell_type": "markdown",
      "id": "c3d12359-7d46-44d7-b153-eb362dd80eb9",
      "metadata": {
        "id": "c3d12359-7d46-44d7-b153-eb362dd80eb9"
      },
      "source": [
        "## Mixed Data Types"
      ]
    },
    {
      "cell_type": "markdown",
      "id": "5f5ad793-a5c6-4b2a-b8a7-c8c51a6254f1",
      "metadata": {
        "id": "5f5ad793-a5c6-4b2a-b8a7-c8c51a6254f1"
      },
      "source": [
        "In the previous sections, you worked with a dataset where all the features were limited-range floating point values. But not all datasets are limited to a single data type.\n",
        "\n",
        "The \"Titanic\" dataset contains information about the passengers on the Titanic. The nominal task on this dataset is to predict who survived."
      ]
    },
    {
      "cell_type": "markdown",
      "id": "6a1eebca-f7db-4cba-9bb0-8cd1cb69a0ea",
      "metadata": {
        "id": "6a1eebca-f7db-4cba-9bb0-8cd1cb69a0ea"
      },
      "source": [
        "The raw data can easily be loaded as a Pandas DataFrame, but is not immediately usable as input to a TensorFlow model."
      ]
    },
    {
      "cell_type": "code",
      "execution_count": 15,
      "id": "c5cb4c22-9c54-447d-9bd4-69b1ef438c98",
      "metadata": {
        "id": "c5cb4c22-9c54-447d-9bd4-69b1ef438c98"
      },
      "outputs": [],
      "source": [
        "titanic = pd.read_csv('https://storage.googleapis.com/tf-datasets/titanic/train.csv')"
      ]
    },
    {
      "cell_type": "code",
      "execution_count": 16,
      "id": "4d45fc1d-a5ba-4fde-9c9d-93a8dea3e9b6",
      "metadata": {
        "colab": {
          "base_uri": "https://localhost:8080/",
          "height": 206
        },
        "id": "4d45fc1d-a5ba-4fde-9c9d-93a8dea3e9b6",
        "outputId": "7ac6e53f-a4ba-431a-e28a-b8ec3d43f730"
      },
      "outputs": [
        {
          "output_type": "execute_result",
          "data": {
            "text/plain": [
              "   survived     sex   age  n_siblings_spouses  parch     fare  class     deck  \\\n",
              "0         0    male  22.0                   1      0   7.2500  Third  unknown   \n",
              "1         1  female  38.0                   1      0  71.2833  First        C   \n",
              "2         1  female  26.0                   0      0   7.9250  Third  unknown   \n",
              "3         1  female  35.0                   1      0  53.1000  First        C   \n",
              "4         0    male  28.0                   0      0   8.4583  Third  unknown   \n",
              "\n",
              "   embark_town alone  \n",
              "0  Southampton     n  \n",
              "1    Cherbourg     n  \n",
              "2  Southampton     y  \n",
              "3  Southampton     n  \n",
              "4   Queenstown     y  "
            ],
            "text/html": [
              "\n",
              "  <div id=\"df-5b349712-5a5d-4d10-9a91-06278064e15d\" class=\"colab-df-container\">\n",
              "    <div>\n",
              "<style scoped>\n",
              "    .dataframe tbody tr th:only-of-type {\n",
              "        vertical-align: middle;\n",
              "    }\n",
              "\n",
              "    .dataframe tbody tr th {\n",
              "        vertical-align: top;\n",
              "    }\n",
              "\n",
              "    .dataframe thead th {\n",
              "        text-align: right;\n",
              "    }\n",
              "</style>\n",
              "<table border=\"1\" class=\"dataframe\">\n",
              "  <thead>\n",
              "    <tr style=\"text-align: right;\">\n",
              "      <th></th>\n",
              "      <th>survived</th>\n",
              "      <th>sex</th>\n",
              "      <th>age</th>\n",
              "      <th>n_siblings_spouses</th>\n",
              "      <th>parch</th>\n",
              "      <th>fare</th>\n",
              "      <th>class</th>\n",
              "      <th>deck</th>\n",
              "      <th>embark_town</th>\n",
              "      <th>alone</th>\n",
              "    </tr>\n",
              "  </thead>\n",
              "  <tbody>\n",
              "    <tr>\n",
              "      <th>0</th>\n",
              "      <td>0</td>\n",
              "      <td>male</td>\n",
              "      <td>22.0</td>\n",
              "      <td>1</td>\n",
              "      <td>0</td>\n",
              "      <td>7.2500</td>\n",
              "      <td>Third</td>\n",
              "      <td>unknown</td>\n",
              "      <td>Southampton</td>\n",
              "      <td>n</td>\n",
              "    </tr>\n",
              "    <tr>\n",
              "      <th>1</th>\n",
              "      <td>1</td>\n",
              "      <td>female</td>\n",
              "      <td>38.0</td>\n",
              "      <td>1</td>\n",
              "      <td>0</td>\n",
              "      <td>71.2833</td>\n",
              "      <td>First</td>\n",
              "      <td>C</td>\n",
              "      <td>Cherbourg</td>\n",
              "      <td>n</td>\n",
              "    </tr>\n",
              "    <tr>\n",
              "      <th>2</th>\n",
              "      <td>1</td>\n",
              "      <td>female</td>\n",
              "      <td>26.0</td>\n",
              "      <td>0</td>\n",
              "      <td>0</td>\n",
              "      <td>7.9250</td>\n",
              "      <td>Third</td>\n",
              "      <td>unknown</td>\n",
              "      <td>Southampton</td>\n",
              "      <td>y</td>\n",
              "    </tr>\n",
              "    <tr>\n",
              "      <th>3</th>\n",
              "      <td>1</td>\n",
              "      <td>female</td>\n",
              "      <td>35.0</td>\n",
              "      <td>1</td>\n",
              "      <td>0</td>\n",
              "      <td>53.1000</td>\n",
              "      <td>First</td>\n",
              "      <td>C</td>\n",
              "      <td>Southampton</td>\n",
              "      <td>n</td>\n",
              "    </tr>\n",
              "    <tr>\n",
              "      <th>4</th>\n",
              "      <td>0</td>\n",
              "      <td>male</td>\n",
              "      <td>28.0</td>\n",
              "      <td>0</td>\n",
              "      <td>0</td>\n",
              "      <td>8.4583</td>\n",
              "      <td>Third</td>\n",
              "      <td>unknown</td>\n",
              "      <td>Queenstown</td>\n",
              "      <td>y</td>\n",
              "    </tr>\n",
              "  </tbody>\n",
              "</table>\n",
              "</div>\n",
              "    <div class=\"colab-df-buttons\">\n",
              "\n",
              "  <div class=\"colab-df-container\">\n",
              "    <button class=\"colab-df-convert\" onclick=\"convertToInteractive('df-5b349712-5a5d-4d10-9a91-06278064e15d')\"\n",
              "            title=\"Convert this dataframe to an interactive table.\"\n",
              "            style=\"display:none;\">\n",
              "\n",
              "  <svg xmlns=\"http://www.w3.org/2000/svg\" height=\"24px\" viewBox=\"0 -960 960 960\">\n",
              "    <path d=\"M120-120v-720h720v720H120Zm60-500h600v-160H180v160Zm220 220h160v-160H400v160Zm0 220h160v-160H400v160ZM180-400h160v-160H180v160Zm440 0h160v-160H620v160ZM180-180h160v-160H180v160Zm440 0h160v-160H620v160Z\"/>\n",
              "  </svg>\n",
              "    </button>\n",
              "\n",
              "  <style>\n",
              "    .colab-df-container {\n",
              "      display:flex;\n",
              "      gap: 12px;\n",
              "    }\n",
              "\n",
              "    .colab-df-convert {\n",
              "      background-color: #E8F0FE;\n",
              "      border: none;\n",
              "      border-radius: 50%;\n",
              "      cursor: pointer;\n",
              "      display: none;\n",
              "      fill: #1967D2;\n",
              "      height: 32px;\n",
              "      padding: 0 0 0 0;\n",
              "      width: 32px;\n",
              "    }\n",
              "\n",
              "    .colab-df-convert:hover {\n",
              "      background-color: #E2EBFA;\n",
              "      box-shadow: 0px 1px 2px rgba(60, 64, 67, 0.3), 0px 1px 3px 1px rgba(60, 64, 67, 0.15);\n",
              "      fill: #174EA6;\n",
              "    }\n",
              "\n",
              "    .colab-df-buttons div {\n",
              "      margin-bottom: 4px;\n",
              "    }\n",
              "\n",
              "    [theme=dark] .colab-df-convert {\n",
              "      background-color: #3B4455;\n",
              "      fill: #D2E3FC;\n",
              "    }\n",
              "\n",
              "    [theme=dark] .colab-df-convert:hover {\n",
              "      background-color: #434B5C;\n",
              "      box-shadow: 0px 1px 3px 1px rgba(0, 0, 0, 0.15);\n",
              "      filter: drop-shadow(0px 1px 2px rgba(0, 0, 0, 0.3));\n",
              "      fill: #FFFFFF;\n",
              "    }\n",
              "  </style>\n",
              "\n",
              "    <script>\n",
              "      const buttonEl =\n",
              "        document.querySelector('#df-5b349712-5a5d-4d10-9a91-06278064e15d button.colab-df-convert');\n",
              "      buttonEl.style.display =\n",
              "        google.colab.kernel.accessAllowed ? 'block' : 'none';\n",
              "\n",
              "      async function convertToInteractive(key) {\n",
              "        const element = document.querySelector('#df-5b349712-5a5d-4d10-9a91-06278064e15d');\n",
              "        const dataTable =\n",
              "          await google.colab.kernel.invokeFunction('convertToInteractive',\n",
              "                                                    [key], {});\n",
              "        if (!dataTable) return;\n",
              "\n",
              "        const docLinkHtml = 'Like what you see? Visit the ' +\n",
              "          '<a target=\"_blank\" href=https://colab.research.google.com/notebooks/data_table.ipynb>data table notebook</a>'\n",
              "          + ' to learn more about interactive tables.';\n",
              "        element.innerHTML = '';\n",
              "        dataTable['output_type'] = 'display_data';\n",
              "        await google.colab.output.renderOutput(dataTable, element);\n",
              "        const docLink = document.createElement('div');\n",
              "        docLink.innerHTML = docLinkHtml;\n",
              "        element.appendChild(docLink);\n",
              "      }\n",
              "    </script>\n",
              "  </div>\n",
              "\n",
              "\n",
              "<div id=\"df-55eb3126-5a61-4b2f-b7e5-b242530dcebe\">\n",
              "  <button class=\"colab-df-quickchart\" onclick=\"quickchart('df-55eb3126-5a61-4b2f-b7e5-b242530dcebe')\"\n",
              "            title=\"Suggest charts\"\n",
              "            style=\"display:none;\">\n",
              "\n",
              "<svg xmlns=\"http://www.w3.org/2000/svg\" height=\"24px\"viewBox=\"0 0 24 24\"\n",
              "     width=\"24px\">\n",
              "    <g>\n",
              "        <path d=\"M19 3H5c-1.1 0-2 .9-2 2v14c0 1.1.9 2 2 2h14c1.1 0 2-.9 2-2V5c0-1.1-.9-2-2-2zM9 17H7v-7h2v7zm4 0h-2V7h2v10zm4 0h-2v-4h2v4z\"/>\n",
              "    </g>\n",
              "</svg>\n",
              "  </button>\n",
              "\n",
              "<style>\n",
              "  .colab-df-quickchart {\n",
              "      --bg-color: #E8F0FE;\n",
              "      --fill-color: #1967D2;\n",
              "      --hover-bg-color: #E2EBFA;\n",
              "      --hover-fill-color: #174EA6;\n",
              "      --disabled-fill-color: #AAA;\n",
              "      --disabled-bg-color: #DDD;\n",
              "  }\n",
              "\n",
              "  [theme=dark] .colab-df-quickchart {\n",
              "      --bg-color: #3B4455;\n",
              "      --fill-color: #D2E3FC;\n",
              "      --hover-bg-color: #434B5C;\n",
              "      --hover-fill-color: #FFFFFF;\n",
              "      --disabled-bg-color: #3B4455;\n",
              "      --disabled-fill-color: #666;\n",
              "  }\n",
              "\n",
              "  .colab-df-quickchart {\n",
              "    background-color: var(--bg-color);\n",
              "    border: none;\n",
              "    border-radius: 50%;\n",
              "    cursor: pointer;\n",
              "    display: none;\n",
              "    fill: var(--fill-color);\n",
              "    height: 32px;\n",
              "    padding: 0;\n",
              "    width: 32px;\n",
              "  }\n",
              "\n",
              "  .colab-df-quickchart:hover {\n",
              "    background-color: var(--hover-bg-color);\n",
              "    box-shadow: 0 1px 2px rgba(60, 64, 67, 0.3), 0 1px 3px 1px rgba(60, 64, 67, 0.15);\n",
              "    fill: var(--button-hover-fill-color);\n",
              "  }\n",
              "\n",
              "  .colab-df-quickchart-complete:disabled,\n",
              "  .colab-df-quickchart-complete:disabled:hover {\n",
              "    background-color: var(--disabled-bg-color);\n",
              "    fill: var(--disabled-fill-color);\n",
              "    box-shadow: none;\n",
              "  }\n",
              "\n",
              "  .colab-df-spinner {\n",
              "    border: 2px solid var(--fill-color);\n",
              "    border-color: transparent;\n",
              "    border-bottom-color: var(--fill-color);\n",
              "    animation:\n",
              "      spin 1s steps(1) infinite;\n",
              "  }\n",
              "\n",
              "  @keyframes spin {\n",
              "    0% {\n",
              "      border-color: transparent;\n",
              "      border-bottom-color: var(--fill-color);\n",
              "      border-left-color: var(--fill-color);\n",
              "    }\n",
              "    20% {\n",
              "      border-color: transparent;\n",
              "      border-left-color: var(--fill-color);\n",
              "      border-top-color: var(--fill-color);\n",
              "    }\n",
              "    30% {\n",
              "      border-color: transparent;\n",
              "      border-left-color: var(--fill-color);\n",
              "      border-top-color: var(--fill-color);\n",
              "      border-right-color: var(--fill-color);\n",
              "    }\n",
              "    40% {\n",
              "      border-color: transparent;\n",
              "      border-right-color: var(--fill-color);\n",
              "      border-top-color: var(--fill-color);\n",
              "    }\n",
              "    60% {\n",
              "      border-color: transparent;\n",
              "      border-right-color: var(--fill-color);\n",
              "    }\n",
              "    80% {\n",
              "      border-color: transparent;\n",
              "      border-right-color: var(--fill-color);\n",
              "      border-bottom-color: var(--fill-color);\n",
              "    }\n",
              "    90% {\n",
              "      border-color: transparent;\n",
              "      border-bottom-color: var(--fill-color);\n",
              "    }\n",
              "  }\n",
              "</style>\n",
              "\n",
              "  <script>\n",
              "    async function quickchart(key) {\n",
              "      const quickchartButtonEl =\n",
              "        document.querySelector('#' + key + ' button');\n",
              "      quickchartButtonEl.disabled = true;  // To prevent multiple clicks.\n",
              "      quickchartButtonEl.classList.add('colab-df-spinner');\n",
              "      try {\n",
              "        const charts = await google.colab.kernel.invokeFunction(\n",
              "            'suggestCharts', [key], {});\n",
              "      } catch (error) {\n",
              "        console.error('Error during call to suggestCharts:', error);\n",
              "      }\n",
              "      quickchartButtonEl.classList.remove('colab-df-spinner');\n",
              "      quickchartButtonEl.classList.add('colab-df-quickchart-complete');\n",
              "    }\n",
              "    (() => {\n",
              "      let quickchartButtonEl =\n",
              "        document.querySelector('#df-55eb3126-5a61-4b2f-b7e5-b242530dcebe button');\n",
              "      quickchartButtonEl.style.display =\n",
              "        google.colab.kernel.accessAllowed ? 'block' : 'none';\n",
              "    })();\n",
              "  </script>\n",
              "</div>\n",
              "\n",
              "    </div>\n",
              "  </div>\n"
            ],
            "application/vnd.google.colaboratory.intrinsic+json": {
              "type": "dataframe",
              "variable_name": "titanic",
              "summary": "{\n  \"name\": \"titanic\",\n  \"rows\": 627,\n  \"fields\": [\n    {\n      \"column\": \"survived\",\n      \"properties\": {\n        \"dtype\": \"number\",\n        \"std\": 0,\n        \"min\": 0,\n        \"max\": 1,\n        \"num_unique_values\": 2,\n        \"samples\": [\n          1,\n          0\n        ],\n        \"semantic_type\": \"\",\n        \"description\": \"\"\n      }\n    },\n    {\n      \"column\": \"sex\",\n      \"properties\": {\n        \"dtype\": \"category\",\n        \"num_unique_values\": 2,\n        \"samples\": [\n          \"female\",\n          \"male\"\n        ],\n        \"semantic_type\": \"\",\n        \"description\": \"\"\n      }\n    },\n    {\n      \"column\": \"age\",\n      \"properties\": {\n        \"dtype\": \"number\",\n        \"std\": 12.511817629565819,\n        \"min\": 0.75,\n        \"max\": 80.0,\n        \"num_unique_values\": 76,\n        \"samples\": [\n          28.0,\n          59.0\n        ],\n        \"semantic_type\": \"\",\n        \"description\": \"\"\n      }\n    },\n    {\n      \"column\": \"n_siblings_spouses\",\n      \"properties\": {\n        \"dtype\": \"number\",\n        \"std\": 1,\n        \"min\": 0,\n        \"max\": 8,\n        \"num_unique_values\": 7,\n        \"samples\": [\n          1,\n          0\n        ],\n        \"semantic_type\": \"\",\n        \"description\": \"\"\n      }\n    },\n    {\n      \"column\": \"parch\",\n      \"properties\": {\n        \"dtype\": \"number\",\n        \"std\": 0,\n        \"min\": 0,\n        \"max\": 5,\n        \"num_unique_values\": 6,\n        \"samples\": [\n          0,\n          1\n        ],\n        \"semantic_type\": \"\",\n        \"description\": \"\"\n      }\n    },\n    {\n      \"column\": \"fare\",\n      \"properties\": {\n        \"dtype\": \"number\",\n        \"std\": 54.597730499456304,\n        \"min\": 0.0,\n        \"max\": 512.3292,\n        \"num_unique_values\": 216,\n        \"samples\": [\n          25.9292,\n          5.0\n        ],\n        \"semantic_type\": \"\",\n        \"description\": \"\"\n      }\n    },\n    {\n      \"column\": \"class\",\n      \"properties\": {\n        \"dtype\": \"category\",\n        \"num_unique_values\": 3,\n        \"samples\": [\n          \"Third\",\n          \"First\"\n        ],\n        \"semantic_type\": \"\",\n        \"description\": \"\"\n      }\n    },\n    {\n      \"column\": \"deck\",\n      \"properties\": {\n        \"dtype\": \"category\",\n        \"num_unique_values\": 8,\n        \"samples\": [\n          \"C\",\n          \"D\"\n        ],\n        \"semantic_type\": \"\",\n        \"description\": \"\"\n      }\n    },\n    {\n      \"column\": \"embark_town\",\n      \"properties\": {\n        \"dtype\": \"category\",\n        \"num_unique_values\": 4,\n        \"samples\": [\n          \"Cherbourg\",\n          \"unknown\"\n        ],\n        \"semantic_type\": \"\",\n        \"description\": \"\"\n      }\n    },\n    {\n      \"column\": \"alone\",\n      \"properties\": {\n        \"dtype\": \"category\",\n        \"num_unique_values\": 2,\n        \"samples\": [\n          \"y\",\n          \"n\"\n        ],\n        \"semantic_type\": \"\",\n        \"description\": \"\"\n      }\n    }\n  ]\n}"
            }
          },
          "metadata": {},
          "execution_count": 16
        }
      ],
      "source": [
        "titanic.head()"
      ]
    },
    {
      "cell_type": "code",
      "execution_count": 17,
      "id": "36a39d94-9219-416c-9c76-aa17b7648832",
      "metadata": {
        "id": "36a39d94-9219-416c-9c76-aa17b7648832"
      },
      "outputs": [],
      "source": [
        "titanic_features = titanic.copy()\n",
        "titanic_labels = titanic_features.pop('survived')"
      ]
    },
    {
      "cell_type": "markdown",
      "id": "fbcea822-cf94-4f18-a0a3-4b8d13cc0ac0",
      "metadata": {
        "id": "fbcea822-cf94-4f18-a0a3-4b8d13cc0ac0"
      },
      "source": [
        "You must have noticed by now that because of the different ranges and data types, the features can't be simply stacked into a numpy array and passed to Sequential Model. Each column needs to be handled individually.\n",
        "\n",
        "The Functional API operates on symbolic tensors. Normal Eager tensors have a value whereas symbolic tensors do not. Instead they keep track of which operations are run on them, and build a representation of the calculation, that you can ran later. As shown in the example"
      ]
    },
    {
      "cell_type": "code",
      "execution_count": 18,
      "id": "bdb45898-9ec7-4573-a25b-4a7c6d8ad869",
      "metadata": {
        "colab": {
          "base_uri": "https://localhost:8080/"
        },
        "id": "bdb45898-9ec7-4573-a25b-4a7c6d8ad869",
        "outputId": "f3db9c51-4b0a-4197-83ad-d4d96433436f"
      },
      "outputs": [
        {
          "output_type": "execute_result",
          "data": {
            "text/plain": [
              "<KerasTensor shape=(None,), dtype=float32, sparse=False, name=keras_tensor_2>"
            ]
          },
          "metadata": {},
          "execution_count": 18
        }
      ],
      "source": [
        "# Create a Symbolic Input\n",
        "input = tf.keras.Input(shape=(), dtype=tf.float32)\n",
        "\n",
        "# Perform a calculation using the input\n",
        "result = 2*input + 1\n",
        "\n",
        "result # has no value"
      ]
    },
    {
      "cell_type": "code",
      "execution_count": 19,
      "id": "ed34d01a-e928-482a-9b64-96fd0a651580",
      "metadata": {
        "id": "ed34d01a-e928-482a-9b64-96fd0a651580"
      },
      "outputs": [],
      "source": [
        "calc = tf.keras.Model(inputs=input, outputs=result)"
      ]
    },
    {
      "cell_type": "code",
      "execution_count": 20,
      "id": "780d9223-776b-45ae-b2ab-5385243f3fb9",
      "metadata": {
        "colab": {
          "base_uri": "https://localhost:8080/"
        },
        "id": "780d9223-776b-45ae-b2ab-5385243f3fb9",
        "outputId": "81c9f1bc-c530-4f37-e6ae-4f0dae082386"
      },
      "outputs": [
        {
          "output_type": "stream",
          "name": "stdout",
          "text": [
            "[3.]\n",
            "[5.]\n",
            "[9.]\n"
          ]
        }
      ],
      "source": [
        "print(calc(np.array([1])).numpy())\n",
        "print(calc(np.array([2])).numpy())\n",
        "print(calc(np.array([4])).numpy())"
      ]
    },
    {
      "cell_type": "markdown",
      "id": "aef0acdd-a937-4cd8-a3bd-8dd785d7a01a",
      "metadata": {
        "id": "aef0acdd-a937-4cd8-a3bd-8dd785d7a01a"
      },
      "source": [
        "To Build the preprocessing model, start by building a set of symbolic `tf.keras.Input` objects matching the names and data types of the CSV columns"
      ]
    },
    {
      "cell_type": "code",
      "execution_count": 21,
      "id": "bf6773e7-94b1-4509-b11a-0128280f70c4",
      "metadata": {
        "colab": {
          "base_uri": "https://localhost:8080/"
        },
        "id": "bf6773e7-94b1-4509-b11a-0128280f70c4",
        "outputId": "949b9029-acc3-4456-99e3-b58421890dad"
      },
      "outputs": [
        {
          "output_type": "stream",
          "name": "stdout",
          "text": [
            "object\n",
            "float64\n",
            "int64\n",
            "int64\n",
            "float64\n",
            "object\n",
            "object\n",
            "object\n",
            "object\n"
          ]
        }
      ],
      "source": [
        "inputs = {}\n",
        "\n",
        "for name, column in titanic_features.items():\n",
        "    dtype = column.dtype\n",
        "    print(dtype)\n",
        "    if dtype == object:\n",
        "        dtype = tf.string\n",
        "    else:\n",
        "        dtype = tf.float32\n",
        "\n",
        "    inputs[name] = tf.keras.Input(shape=(1,), name=name, dtype=dtype)"
      ]
    },
    {
      "cell_type": "code",
      "execution_count": 22,
      "id": "0db3f6e2-347c-4a19-831e-cfb962da869e",
      "metadata": {
        "colab": {
          "base_uri": "https://localhost:8080/"
        },
        "id": "0db3f6e2-347c-4a19-831e-cfb962da869e",
        "outputId": "9b4b8b52-6b8e-4c23-df8a-e2b092f940b0"
      },
      "outputs": [
        {
          "output_type": "execute_result",
          "data": {
            "text/plain": [
              "{'sex': <KerasTensor shape=(None, 1), dtype=string, sparse=False, name=sex>,\n",
              " 'age': <KerasTensor shape=(None, 1), dtype=float32, sparse=False, name=age>,\n",
              " 'n_siblings_spouses': <KerasTensor shape=(None, 1), dtype=float32, sparse=False, name=n_siblings_spouses>,\n",
              " 'parch': <KerasTensor shape=(None, 1), dtype=float32, sparse=False, name=parch>,\n",
              " 'fare': <KerasTensor shape=(None, 1), dtype=float32, sparse=False, name=fare>,\n",
              " 'class': <KerasTensor shape=(None, 1), dtype=string, sparse=False, name=class>,\n",
              " 'deck': <KerasTensor shape=(None, 1), dtype=string, sparse=False, name=deck>,\n",
              " 'embark_town': <KerasTensor shape=(None, 1), dtype=string, sparse=False, name=embark_town>,\n",
              " 'alone': <KerasTensor shape=(None, 1), dtype=string, sparse=False, name=alone>}"
            ]
          },
          "metadata": {},
          "execution_count": 22
        }
      ],
      "source": [
        "inputs"
      ]
    },
    {
      "cell_type": "markdown",
      "id": "ad64beec-b67c-415f-9f59-710374732efa",
      "metadata": {
        "id": "ad64beec-b67c-415f-9f59-710374732efa"
      },
      "source": [
        "The First step in the preprocessing logic is to concatenate the numeric inputs together, and run them thorugh a normalization layer"
      ]
    },
    {
      "cell_type": "code",
      "execution_count": 23,
      "id": "a04236bb-08c1-474b-b1a4-a9805b225cc0",
      "metadata": {
        "colab": {
          "base_uri": "https://localhost:8080/"
        },
        "id": "a04236bb-08c1-474b-b1a4-a9805b225cc0",
        "outputId": "5a443912-2842-4673-9c38-3469abb34fce"
      },
      "outputs": [
        {
          "output_type": "execute_result",
          "data": {
            "text/plain": [
              "<KerasTensor shape=(None, 4), dtype=float32, sparse=False, name=keras_tensor_3>"
            ]
          },
          "metadata": {},
          "execution_count": 23
        }
      ],
      "source": [
        "numeric_inputs = {name: input for name, input in inputs.items() if input.dtype == tf.float32}\n",
        "\n",
        "x = layers.Concatenate()(list(numeric_inputs.values()))\n",
        "norm = layers.Normalization()\n",
        "norm.adapt(np.array(titanic[numeric_inputs.keys()]))\n",
        "all_numeric_inputs = x\n",
        "\n",
        "all_numeric_inputs"
      ]
    },
    {
      "cell_type": "markdown",
      "id": "e81d36cc-44af-4228-b100-78cb93ea9cf7",
      "metadata": {
        "id": "e81d36cc-44af-4228-b100-78cb93ea9cf7"
      },
      "source": [
        "Collect all the symbolic preprocessing results, to concatenate them later"
      ]
    },
    {
      "cell_type": "code",
      "execution_count": 24,
      "id": "b55d9f62-f536-40e9-9804-c2a0fcc2c3cb",
      "metadata": {
        "id": "b55d9f62-f536-40e9-9804-c2a0fcc2c3cb"
      },
      "outputs": [],
      "source": [
        "preprocessed_inputs = [all_numeric_inputs]"
      ]
    },
    {
      "cell_type": "markdown",
      "id": "c0290ce9-5a31-47d5-ac18-addd5c048f92",
      "metadata": {
        "id": "c0290ce9-5a31-47d5-ac18-addd5c048f92"
      },
      "source": [
        "For the string inputs use the `tf.keras.layers.StringLookup` function to map from strings to integer indices in a vocabulary, Next use `layers.CategoryEncoding` to convert the indexes into float32 data appropriate for the model."
      ]
    },
    {
      "cell_type": "code",
      "execution_count": 25,
      "id": "bb4aeb56-35ed-44d9-b793-876dbd7ab139",
      "metadata": {
        "colab": {
          "base_uri": "https://localhost:8080/"
        },
        "id": "bb4aeb56-35ed-44d9-b793-876dbd7ab139",
        "outputId": "209334ed-02b6-4fdb-ece6-a8c4e34892e5"
      },
      "outputs": [
        {
          "output_type": "stream",
          "name": "stdout",
          "text": [
            "sex <KerasTensor shape=(None, 1), dtype=string, sparse=False, name=sex>\n",
            "age <KerasTensor shape=(None, 1), dtype=float32, sparse=False, name=age>\n",
            "n_siblings_spouses <KerasTensor shape=(None, 1), dtype=float32, sparse=False, name=n_siblings_spouses>\n",
            "parch <KerasTensor shape=(None, 1), dtype=float32, sparse=False, name=parch>\n",
            "fare <KerasTensor shape=(None, 1), dtype=float32, sparse=False, name=fare>\n",
            "class <KerasTensor shape=(None, 1), dtype=string, sparse=False, name=class>\n",
            "deck <KerasTensor shape=(None, 1), dtype=string, sparse=False, name=deck>\n",
            "embark_town <KerasTensor shape=(None, 1), dtype=string, sparse=False, name=embark_town>\n",
            "alone <KerasTensor shape=(None, 1), dtype=string, sparse=False, name=alone>\n"
          ]
        }
      ],
      "source": [
        "for name, inputType in inputs.items():\n",
        "    print(name, inputType)\n",
        "    if inputType == tf.float32:\n",
        "        continue\n",
        "\n",
        "    lookup = layers.StringLookup(vocabulary=np.unique(titanic_features[name]))\n",
        "    one_hot = layers.CategoryEncoding(num_tokens=lookup.vocabulary_size())\n",
        "\n",
        "    x = lookup(inputType)\n",
        "    x = one_hot(x)\n",
        "\n",
        "    preprocessed_inputs.append(x)"
      ]
    },
    {
      "cell_type": "markdown",
      "id": "90ccd4f1-9008-4b4f-be8b-037072426540",
      "metadata": {
        "id": "90ccd4f1-9008-4b4f-be8b-037072426540"
      },
      "source": [
        "With the collection of `inputs` and `preprocessed_inputs`, we can concatenate all the preprocessed inputs together, and build a model that handles the preprocessing"
      ]
    },
    {
      "cell_type": "code",
      "execution_count": 26,
      "id": "7cead17a-ae24-402b-bdf7-f669f7e11f0c",
      "metadata": {
        "colab": {
          "base_uri": "https://localhost:8080/",
          "height": 808
        },
        "id": "7cead17a-ae24-402b-bdf7-f669f7e11f0c",
        "outputId": "88fb1f79-4161-4612-e627-160f59947437"
      },
      "outputs": [
        {
          "output_type": "execute_result",
          "data": {
            "image/png": "[encoded data removed]",
            "text/plain": [
              "<IPython.core.display.Image object>"
            ]
          },
          "metadata": {},
          "execution_count": 26
        }
      ],
      "source": [
        "preprocessed_inputs_concatenated = layers.Concatenate()(preprocessed_inputs)\n",
        "\n",
        "titanic_preprocessing = tf.keras.Model(inputs, preprocessed_inputs_concatenated)\n",
        "\n",
        "tf.keras.utils.plot_model(model=titanic_preprocessing, rankdir='LR', dpi=72, show_shapes=True)"
      ]
    },
    {
      "cell_type": "markdown",
      "id": "376a9e6c-9a6d-42fa-bbf2-91a2efc6cd4e",
      "metadata": {
        "id": "376a9e6c-9a6d-42fa-bbf2-91a2efc6cd4e"
      },
      "source": [
        "This image shows a preprocessing model architecture for handling what appears to be tabular data with both numerical and categorical features. Here's a breakdown of what I understand from it:\n",
        "\n",
        "1. Input Data:\n",
        "\n",
        "- The model is designed to process tabular data with multiple columns (features). Each \"InputLayer\" represents a single column from your dataset.\n",
        "- The presence of \"StringLookup\" indicates that some of these columns contain categorical data in string format (e.g., \"red\", \"blue\", \"green\").\n",
        "- Other columns likely contain numerical data, as they are fed directly to the \"Concatenate\" layer.\n",
        "\n",
        "2. Preprocessing Steps:\n",
        "- String Lookup: \"StringLookup\" layers are used to convert string categories into numerical indices. This is a necessary step before feeding categorical data into a machine learning model.\n",
        "- Category Encoding: \"CategoryEncoding\" layers likely perform one-hot encoding on the indexed categorical data. This transforms each categorical feature into a binary vector, where each position represents a possible category. This helps the model learn relationships between categories more effectively.\n",
        "- Concatenation: After the categorical features are encoded, they are concatenated with the numerical features using the \"Concatenate\" layer. This combines all the processed features into a single input vector for the subsequent machine learning model.\n",
        "\n",
        "3. Overall Structure:\n",
        "- The architecture suggests a modular approach to preprocessing. Each column goes through its own preprocessing pipeline (StringLookup -> CategoryEncoding) before being combined.\n",
        "- The repeated structure implies that you have multiple groups of features with similar preprocessing needs.\n",
        "\n",
        "\n",
        "4. Purpose:\n",
        "- The primary goal of this preprocessing model is to transform raw tabular data into a suitable format for training a machine learning model. This involves:\n",
        "- Converting categorical data into a numerical representation.\n",
        "- Potentially handling missing values (though not explicitly shown in the diagram).\n",
        "- Combining all features into a single input vector."
      ]
    },
    {
      "cell_type": "markdown",
      "id": "20d8f938-e6ed-4e37-b751-35805273eadb",
      "metadata": {
        "id": "20d8f938-e6ed-4e37-b751-35805273eadb"
      },
      "source": [
        "This model just contains the input preprocessing. You can run it to see what it does to your data. Keras models don't automatically convert pandas DataFrames because it's not clear if it should be converted to one tensor or to a dictionary of tensors. So, convert it to a dictionary of tensors"
      ]
    },
    {
      "cell_type": "code",
      "execution_count": 27,
      "id": "8331b2a9-34bb-4a4e-8a45-85bcd9a08855",
      "metadata": {
        "id": "8331b2a9-34bb-4a4e-8a45-85bcd9a08855"
      },
      "outputs": [],
      "source": [
        "# for name, value in titanic_features.items():\n",
        "#     print(name, np.array(value))"
      ]
    },
    {
      "cell_type": "code",
      "execution_count": 28,
      "id": "bd8d4ca6-08ae-4217-9f60-2aa6a312aa40",
      "metadata": {
        "id": "bd8d4ca6-08ae-4217-9f60-2aa6a312aa40"
      },
      "outputs": [],
      "source": [
        "titanic_features_dict = {name: np.array(value) for name, value in titanic_features.items()}"
      ]
    },
    {
      "cell_type": "markdown",
      "id": "3a002536-1200-4d6f-aaa0-8db126abce8f",
      "metadata": {
        "id": "3a002536-1200-4d6f-aaa0-8db126abce8f"
      },
      "source": [
        "Slice out the first example and pass it to this preprocessing model, we see the numeric features and strings one-hots all concatenated together"
      ]
    },
    {
      "cell_type": "code",
      "execution_count": 29,
      "id": "6edb7af7-9e92-481a-9de2-c0e79eb6d194",
      "metadata": {
        "colab": {
          "base_uri": "https://localhost:8080/"
        },
        "id": "6edb7af7-9e92-481a-9de2-c0e79eb6d194",
        "outputId": "35d79fda-9316-4ebe-bd2a-708f79daf753"
      },
      "outputs": [
        {
          "output_type": "execute_result",
          "data": {
            "text/plain": [
              "{'sex': array(['male'], dtype=object),\n",
              " 'age': array([22.]),\n",
              " 'n_siblings_spouses': array([1]),\n",
              " 'parch': array([0]),\n",
              " 'fare': array([7.25]),\n",
              " 'class': array(['Third'], dtype=object),\n",
              " 'deck': array(['unknown'], dtype=object),\n",
              " 'embark_town': array(['Southampton'], dtype=object),\n",
              " 'alone': array(['n'], dtype=object)}"
            ]
          },
          "metadata": {},
          "execution_count": 29
        }
      ],
      "source": [
        "features_dict = {name:values[:1] for name, values in titanic_features_dict.items()}\n",
        "features_dict"
      ]
    },
    {
      "cell_type": "code",
      "execution_count": 30,
      "id": "0d98a039-8b94-4648-83eb-5b1bb85ba3c5",
      "metadata": {
        "colab": {
          "base_uri": "https://localhost:8080/"
        },
        "id": "0d98a039-8b94-4648-83eb-5b1bb85ba3c5",
        "outputId": "f116a2b8-a3f1-4ef7-ef03-9e5a0b877914"
      },
      "outputs": [
        {
          "output_type": "execute_result",
          "data": {
            "text/plain": [
              "<tf.Tensor: shape=(1, 28), dtype=float32, numpy=\n",
              "array([[22.  ,  1.  ,  0.  ,  7.25,  0.  ,  0.  ,  1.  ,  0.  ,  0.  ,\n",
              "         0.  ,  1.  ,  0.  ,  0.  ,  0.  ,  0.  ,  0.  ,  0.  ,  0.  ,\n",
              "         0.  ,  1.  ,  0.  ,  0.  ,  0.  ,  1.  ,  0.  ,  0.  ,  1.  ,\n",
              "         0.  ]], dtype=float32)>"
            ]
          },
          "metadata": {},
          "execution_count": 30
        }
      ],
      "source": [
        "titanic_preprocessing(features_dict)"
      ]
    },
    {
      "cell_type": "markdown",
      "id": "3241e3a2-45c0-488e-93c3-94bbdb1f4c19",
      "metadata": {
        "id": "3241e3a2-45c0-488e-93c3-94bbdb1f4c19"
      },
      "source": [
        "Now, We will build the model on top of this"
      ]
    },
    {
      "cell_type": "code",
      "execution_count": 31,
      "id": "c48ecfe5-ba02-49d1-a0aa-dea5b6e7ccec",
      "metadata": {
        "id": "c48ecfe5-ba02-49d1-a0aa-dea5b6e7ccec"
      },
      "outputs": [],
      "source": [
        "def titanic_model(preprocessing_head, inputs):\n",
        "    body = tf.keras.Sequential([\n",
        "        layers.Dense(64, activation='relu'),\n",
        "        layers.Dense(1)\n",
        "    ])\n",
        "\n",
        "    preprocessed_inputs = preprocessing_head(inputs)\n",
        "    result = body(preprocessed_inputs)\n",
        "\n",
        "    model = tf.keras.Model(inputs, result)\n",
        "\n",
        "    model.compile(loss=tf.keras.losses.BinaryCrossentropy(from_logits=True), optimizer='adam')\n",
        "\n",
        "    return model"
      ]
    },
    {
      "cell_type": "code",
      "execution_count": 32,
      "id": "62e6a54b-581a-44f3-94f6-c779539b45cd",
      "metadata": {
        "id": "62e6a54b-581a-44f3-94f6-c779539b45cd"
      },
      "outputs": [],
      "source": [
        "titanic_model = titanic_model(titanic_preprocessing, inputs)"
      ]
    },
    {
      "cell_type": "code",
      "execution_count": 33,
      "id": "fc240675-aec6-459c-9a4a-764924bc9288",
      "metadata": {
        "id": "fc240675-aec6-459c-9a4a-764924bc9288"
      },
      "outputs": [],
      "source": [
        "# titanic_model.fit(x=titanic_features_dict, y=titanic_labels, epochs=10)"
      ]
    },
    {
      "cell_type": "markdown",
      "id": "416ec79e-c2c1-4950-a093-eba833fc1d21",
      "metadata": {
        "id": "416ec79e-c2c1-4950-a093-eba833fc1d21"
      },
      "source": [
        "## Multiple Files"
      ]
    },
    {
      "cell_type": "markdown",
      "id": "345fd2a8-016a-463b-86c2-d65cc0474d5d",
      "metadata": {
        "id": "345fd2a8-016a-463b-86c2-d65cc0474d5d"
      },
      "source": [
        "The `character font images` dataset is distributed as a collection of csv files, one per font. We will start by downloading the dataset"
      ]
    },
    {
      "cell_type": "code",
      "execution_count": 34,
      "id": "ecd2cc24-b01b-4b73-84bd-53a1b28347c5",
      "metadata": {
        "colab": {
          "base_uri": "https://localhost:8080/"
        },
        "id": "ecd2cc24-b01b-4b73-84bd-53a1b28347c5",
        "outputId": "34ea48be-f1a0-4205-f668-a9c65c719639"
      },
      "outputs": [
        {
          "output_type": "stream",
          "name": "stdout",
          "text": [
            "Downloading data from https://archive.ics.uci.edu/ml/machine-learning-databases/00417/fonts.zip\n",
            "159850496/Unknown \u001b[1m6s\u001b[0m 0us/step"
          ]
        }
      ],
      "source": [
        "fonts_zip = tf.keras.utils.get_file(\n",
        "    'fonts.zip', \"https://archive.ics.uci.edu/ml/machine-learning-databases/00417/fonts.zip\",\n",
        "    cache_dir='.',\n",
        "    cache_subdir='fonts',\n",
        "    extract=True\n",
        ")"
      ]
    },
    {
      "cell_type": "code",
      "execution_count": 35,
      "id": "21c340a6-79ef-4097-9cda-4e1360e5eee1",
      "metadata": {
        "id": "21c340a6-79ef-4097-9cda-4e1360e5eee1"
      },
      "outputs": [],
      "source": [
        "import pathlib"
      ]
    },
    {
      "cell_type": "code",
      "execution_count": 111,
      "id": "23614e39-b48f-4cbf-893d-6c7d070bb45c",
      "metadata": {
        "id": "23614e39-b48f-4cbf-893d-6c7d070bb45c"
      },
      "outputs": [],
      "source": [
        "font_csvs = sorted(str(p) for p in pathlib.Path('fonts/').glob('*csv'))"
      ]
    },
    {
      "cell_type": "code",
      "execution_count": 112,
      "id": "94177ee6-6b83-4ded-8526-768cc6b47ed5",
      "metadata": {
        "scrolled": true,
        "colab": {
          "base_uri": "https://localhost:8080/"
        },
        "id": "94177ee6-6b83-4ded-8526-768cc6b47ed5",
        "outputId": "9fa38cfa-8cd3-490b-aefb-51692d1d4ce4"
      },
      "outputs": [
        {
          "output_type": "execute_result",
          "data": {
            "text/plain": [
              "['fonts/AGENCY.csv',\n",
              " 'fonts/ARIAL.csv',\n",
              " 'fonts/BAITI.csv',\n",
              " 'fonts/BANKGOTHIC.csv',\n",
              " 'fonts/BASKERVILLE.csv',\n",
              " 'fonts/BAUHAUS.csv',\n",
              " 'fonts/BELL.csv',\n",
              " 'fonts/BERLIN.csv',\n",
              " 'fonts/BERNARD.csv',\n",
              " 'fonts/BITSTREAMVERA.csv']"
            ]
          },
          "metadata": {},
          "execution_count": 112
        }
      ],
      "source": [
        "font_csvs[:10]"
      ]
    },
    {
      "cell_type": "code",
      "execution_count": 38,
      "id": "e93f067a-d998-4510-a885-3c4ac7cfc242",
      "metadata": {
        "colab": {
          "base_uri": "https://localhost:8080/"
        },
        "id": "e93f067a-d998-4510-a885-3c4ac7cfc242",
        "outputId": "a02c0c71-9a5f-4c7e-b04a-d7038cadca26"
      },
      "outputs": [
        {
          "output_type": "execute_result",
          "data": {
            "text/plain": [
              "0"
            ]
          },
          "metadata": {},
          "execution_count": 38
        }
      ],
      "source": [
        "len(font_csvs)"
      ]
    },
    {
      "cell_type": "markdown",
      "id": "3a469c4b-0ab0-46f3-8596-50f37e895959",
      "metadata": {
        "id": "3a469c4b-0ab0-46f3-8596-50f37e895959"
      },
      "source": [
        "When dealing with a bunch of files, you can pass a glob-style `file_pattern` to the `tf.data.experimental.make_csv_dataset` function. The order of the files is shuffled each iteration.\n",
        "\n",
        "Use the `num_parrallel_reads` arg to set how many files are read in parallel"
      ]
    },
    {
      "cell_type": "code",
      "execution_count": 40,
      "id": "0a3b47d5-3161-4f4f-ab6b-4b95e97739da",
      "metadata": {
        "id": "0a3b47d5-3161-4f4f-ab6b-4b95e97739da"
      },
      "outputs": [],
      "source": [
        "fonts_ds = tf.data.experimental.make_csv_dataset(\n",
        "    file_pattern = 'fonts/*.csv',\n",
        "    batch_size=10,\n",
        "    num_epochs=1,\n",
        "    num_parallel_reads=20,\n",
        "    shuffle_buffer_size=10000\n",
        ")"
      ]
    },
    {
      "cell_type": "markdown",
      "id": "23dc87a5-f0f5-413d-ad68-642dc431f8ea",
      "metadata": {
        "id": "23dc87a5-f0f5-413d-ad68-642dc431f8ea"
      },
      "source": [
        "These CSV files have the images flattened out into a single row. The column names are formatted r{row}c{column}"
      ]
    },
    {
      "cell_type": "code",
      "execution_count": 41,
      "id": "304576b9-a21b-4a6f-b0b0-533b963a3cb4",
      "metadata": {
        "colab": {
          "base_uri": "https://localhost:8080/"
        },
        "id": "304576b9-a21b-4a6f-b0b0-533b963a3cb4",
        "outputId": "e498768f-27b9-4f97-f078-6ad302018b0f"
      },
      "outputs": [
        {
          "output_type": "stream",
          "name": "stdout",
          "text": [
            "font                : [b'BUXTON' b'LEELAWADEE' b'PALACE' b'NUMERICS' b'MODERN' b'LEELAWADEE'\n",
            " b'PRISTINA' b'ELEPHANT' b'ELEPHANT' b'PALACE']\n",
            "fontVariant         : [b'BUXTON SKETCH' b'LEELAWADEE UI SEMILIGHT' b'PALACE SCRIPT MT'\n",
            " b'scanned' b'MODERN NO. 20' b'LEELAWADEE UI SEMILIGHT' b'PRISTINA'\n",
            " b'ELEPHANT' b'ELEPHANT' b'PALACE SCRIPT MT']\n",
            "m_label             : [ 122 6041  208   49 8218 6016 8730  196 8250   82]\n",
            "strength            : [0.4 0.4 0.4 0.4 0.4 0.4 0.4 0.4 0.4 0.4]\n",
            "italic              : [0 0 1 0 1 0 1 1 1 1]\n",
            "orientation         : [0. 0. 0. 0. 0. 0. 0. 0. 0. 0.]\n",
            "m_top               : [48 47 29  0 68 47 36 23 58 29]\n",
            "m_left              : [20 27 21  0 19 25 27 18 19 21]\n",
            "originalH           : [31 37 37 16 13 37 43 64 24 37]\n",
            "originalW           : [30 57 52  8 11 46 43 74 20 56]\n",
            "h                   : [20 20 20 20 20 20 20 20 20 20]\n",
            "w                   : [20 20 20 20 20 20 20 20 20 20]\n",
            "r0c0                : [ 31 207   1   0   1   1   1   1   1   1]\n",
            "r0c1                : [201 255   1   0   1   1   1   1   1   1]\n",
            "r0c2                : [255 110   1   0   1   1   1   1   1   1]\n",
            "r0c3                : [255   1   1   0   1  11   1   1   1   1]\n",
            "...\n",
            "[total: 412 features]\n"
          ]
        }
      ],
      "source": [
        "for features in fonts_ds.take(1):\n",
        "  for i, (name, value) in enumerate(features.items()):\n",
        "    if i>15:\n",
        "      break\n",
        "    print(f\"{name:20s}: {value}\")\n",
        "print('...')\n",
        "print(f\"[total: {len(features)} features]\")"
      ]
    },
    {
      "cell_type": "markdown",
      "source": [
        "### Packing Fields\n",
        "\n",
        "If I would have to guess, I feel no one wants to work with each pixel in seperate columns like this. before trying to use this dataset, be sure to pack the pixels into an image tensor\n",
        "\n",
        "Now, We write a function that parses the column names to build images for each example"
      ],
      "metadata": {
        "id": "TKnZ7Nht9ry0"
      },
      "id": "TKnZ7Nht9ry0"
    },
    {
      "cell_type": "code",
      "source": [
        "import re\n",
        "\n",
        "def make_images(features):\n",
        "  image = [None]*400\n",
        "  new_feats = {}\n",
        "\n",
        "  for name, value in features.items():\n",
        "    match = re.match('r(\\d+)c(\\d+)', name)\n",
        "    if match:\n",
        "      image[int(match.group(1))*20+int(match.group(2))] = value\n",
        "    else:\n",
        "      new_feats[name] = value\n",
        "\n",
        "  image = tf.stack(image, axis=0)\n",
        "  image = tf.reshape(image, [20, 20, -1])\n",
        "  new_feats['image'] = image\n",
        "\n",
        "  return new_feats"
      ],
      "metadata": {
        "id": "YBHMkc_u-QH4"
      },
      "id": "YBHMkc_u-QH4",
      "execution_count": 80,
      "outputs": []
    },
    {
      "cell_type": "markdown",
      "source": [],
      "metadata": {
        "id": "4vAH9EGFxwtV"
      },
      "id": "4vAH9EGFxwtV"
    },
    {
      "cell_type": "code",
      "source": [
        "# Apply the make_images function to each batch in the dataset\n",
        "fonts_image_ds = fonts_ds.map(make_images)\n",
        "\n",
        "for features in fonts_image_ds.take(1):\n",
        "  break"
      ],
      "metadata": {
        "id": "CkTz0PeazIkt"
      },
      "id": "CkTz0PeazIkt",
      "execution_count": 81,
      "outputs": []
    },
    {
      "cell_type": "code",
      "source": [
        "from matplotlib import pyplot as plt\n",
        "\n",
        "plt.figure(figsize=(6,6), dpi=120)\n",
        "\n",
        "for n in range(9):\n",
        "  plt.subplot(3,3,n+1)\n",
        "  plt.imshow(features['image'][..., n])\n",
        "  plt.title(chr(features['m_label'][n]))\n",
        "  plt.axis('off')"
      ],
      "metadata": {
        "colab": {
          "base_uri": "https://localhost:8080/",
          "height": 689
        },
        "id": "YuQzw2mt1pOn",
        "outputId": "232aee3c-0ced-44cc-84c1-e5709adb0795"
      },
      "id": "YuQzw2mt1pOn",
      "execution_count": 82,
      "outputs": [
        {
          "output_type": "stream",
          "name": "stderr",
          "text": [
            "/usr/local/lib/python3.10/dist-packages/IPython/core/events.py:89: UserWarning: Glyph 10608 (\\N{RIGHT DOUBLE ARROW WITH ROUNDED HEAD}) missing from current font.\n",
            "  func(*args, **kwargs)\n",
            "/usr/local/lib/python3.10/dist-packages/IPython/core/pylabtools.py:151: UserWarning: Glyph 10608 (\\N{RIGHT DOUBLE ARROW WITH ROUNDED HEAD}) missing from current font.\n",
            "  fig.canvas.print_figure(bytes_io, **kw)\n"
          ]
        },
        {
          "output_type": "display_data",
          "data": {
            "text/plain": [
              "<Figure size 720x720 with 9 Axes>"
            ],
            "image/png": "[encoded data removed]"
          },
          "metadata": {}
        }
      ]
    },
    {
      "cell_type": "markdown",
      "source": [
        "## Lower Level Functions\n",
        "\n",
        "There are two other APIs that can be helpful in advanced use-cases\n",
        "- `tf.io.decode_csv`: a function for parsinf lines pof text into a list of CSV column tensors.\n",
        "- `tf.data.experimental.CsvDatasheet`: a lower-level CSV dataset constructor.\n"
      ],
      "metadata": {
        "id": "cRVgiPaG_gn7"
      },
      "id": "cRVgiPaG_gn7"
    },
    {
      "cell_type": "markdown",
      "source": [
        "### tf.io.decode_csv\n",
        "\n",
        "This function decodes a string, or list of strings into a list of columns. Unlike `make_csv_datasheet`, this function does not try to guess column data-types. You specify the column types by providing a list of  `record_defaults` containing a value fo the correct type, for each column.\n",
        "\n",
        "To read the Titanic data as strings using `tf.io.decode_csv`, you would say"
      ],
      "metadata": {
        "id": "z3uQ6ozEAI3e"
      },
      "id": "z3uQ6ozEAI3e"
    },
    {
      "cell_type": "code",
      "source": [
        "titanic_file_path = tf.keras.utils.get_file(\"train.csv\", \"https://storage.googleapis.com/tf-datasets/titanic/train.csv\")"
      ],
      "metadata": {
        "colab": {
          "base_uri": "https://localhost:8080/"
        },
        "id": "Fi7M7GFHBSqp",
        "outputId": "9ddf41ab-e50d-4cc3-e743-4fb937024893"
      },
      "id": "Fi7M7GFHBSqp",
      "execution_count": 84,
      "outputs": [
        {
          "output_type": "stream",
          "name": "stdout",
          "text": [
            "Downloading data from https://storage.googleapis.com/tf-datasets/titanic/train.csv\n",
            "\u001b[1m30874/30874\u001b[0m \u001b[32m━━━━━━━━━━━━━━━━━━━━\u001b[0m\u001b[37m\u001b[0m \u001b[1m0s\u001b[0m 0us/step\n"
          ]
        }
      ]
    },
    {
      "cell_type": "code",
      "source": [
        "text = pathlib.Path(titanic_file_path).read_text()\n",
        "lines = text.split('\\n')[1:-1]\n",
        "\n",
        "all_strings = [str()]*10\n",
        "print(all_strings)"
      ],
      "metadata": {
        "colab": {
          "base_uri": "https://localhost:8080/"
        },
        "collapsed": true,
        "id": "JN_aFfF8A721",
        "outputId": "0fc56890-1a5c-47e9-97ee-259e6c3ba5db"
      },
      "id": "JN_aFfF8A721",
      "execution_count": 91,
      "outputs": [
        {
          "output_type": "stream",
          "name": "stdout",
          "text": [
            "['', '', '', '', '', '', '', '', '', '']\n"
          ]
        }
      ]
    },
    {
      "cell_type": "code",
      "source": [
        "features = tf.io.decode_csv(lines, record_defaults=all_strings)"
      ],
      "metadata": {
        "id": "84JtZ9woB9cC"
      },
      "id": "84JtZ9woB9cC",
      "execution_count": 93,
      "outputs": []
    },
    {
      "cell_type": "code",
      "source": [
        "for f in features:\n",
        "  print(f\"{f.dtype}, shape: {f.shape}\")"
      ],
      "metadata": {
        "colab": {
          "base_uri": "https://localhost:8080/"
        },
        "id": "QXpD07_TCKiD",
        "outputId": "e7d2647b-1ac9-446c-e42b-83c0f814430f"
      },
      "id": "QXpD07_TCKiD",
      "execution_count": 98,
      "outputs": [
        {
          "output_type": "stream",
          "name": "stdout",
          "text": [
            "<dtype: 'string'>, shape: (627,)\n",
            "<dtype: 'string'>, shape: (627,)\n",
            "<dtype: 'string'>, shape: (627,)\n",
            "<dtype: 'string'>, shape: (627,)\n",
            "<dtype: 'string'>, shape: (627,)\n",
            "<dtype: 'string'>, shape: (627,)\n",
            "<dtype: 'string'>, shape: (627,)\n",
            "<dtype: 'string'>, shape: (627,)\n",
            "<dtype: 'string'>, shape: (627,)\n",
            "<dtype: 'string'>, shape: (627,)\n"
          ]
        }
      ]
    },
    {
      "cell_type": "markdown",
      "source": [
        "To Parse them with their actual types, create a list of `record_defaults` of the corresponding types"
      ],
      "metadata": {
        "id": "tLQ64C9mCiqL"
      },
      "id": "tLQ64C9mCiqL"
    },
    {
      "cell_type": "code",
      "source": [
        "print(lines[0])"
      ],
      "metadata": {
        "colab": {
          "base_uri": "https://localhost:8080/"
        },
        "id": "QjhGD2j5CghG",
        "outputId": "ce815f5a-d404-4a41-db66-7156e5978b7f"
      },
      "id": "QjhGD2j5CghG",
      "execution_count": 99,
      "outputs": [
        {
          "output_type": "stream",
          "name": "stdout",
          "text": [
            "0,male,22.0,1,0,7.25,Third,unknown,Southampton,n\n"
          ]
        }
      ]
    },
    {
      "cell_type": "code",
      "source": [
        "# We can now construct types seeing from the above results\n",
        "titanic_types = [int(), str(), float(), int(), int(), float(), str(), str(), str(), str()]\n",
        "titanic_types"
      ],
      "metadata": {
        "colab": {
          "base_uri": "https://localhost:8080/"
        },
        "id": "61S96-SCC9Ra",
        "outputId": "71c4c53e-5de9-4fb0-afb5-5f6869fa2da2"
      },
      "id": "61S96-SCC9Ra",
      "execution_count": 100,
      "outputs": [
        {
          "output_type": "execute_result",
          "data": {
            "text/plain": [
              "[0, '', 0.0, 0, 0, 0.0, '', '', '', '']"
            ]
          },
          "metadata": {},
          "execution_count": 100
        }
      ]
    },
    {
      "cell_type": "code",
      "source": [
        "features = tf.io.decode_csv(lines, record_defaults=titanic_types)"
      ],
      "metadata": {
        "id": "YEz7oDUeDF8j"
      },
      "id": "YEz7oDUeDF8j",
      "execution_count": 101,
      "outputs": []
    },
    {
      "cell_type": "code",
      "source": [
        "for f in features:\n",
        "  print(f\"{f.dtype}, shape: {f.shape}\")"
      ],
      "metadata": {
        "colab": {
          "base_uri": "https://localhost:8080/"
        },
        "id": "prZbuPnaDRXF",
        "outputId": "b32a8677-80f4-43c7-984c-c162b2755f6e"
      },
      "id": "prZbuPnaDRXF",
      "execution_count": 102,
      "outputs": [
        {
          "output_type": "stream",
          "name": "stdout",
          "text": [
            "<dtype: 'int32'>, shape: (627,)\n",
            "<dtype: 'string'>, shape: (627,)\n",
            "<dtype: 'float32'>, shape: (627,)\n",
            "<dtype: 'int32'>, shape: (627,)\n",
            "<dtype: 'int32'>, shape: (627,)\n",
            "<dtype: 'float32'>, shape: (627,)\n",
            "<dtype: 'string'>, shape: (627,)\n",
            "<dtype: 'string'>, shape: (627,)\n",
            "<dtype: 'string'>, shape: (627,)\n",
            "<dtype: 'string'>, shape: (627,)\n"
          ]
        }
      ]
    },
    {
      "cell_type": "markdown",
      "source": [
        "## tf.data.experimental.CsvDataset\n",
        "The `tf.data.experimental.CsvDataset` class provides a minimal CSV Dataset interface withourtthe convenience features of the `make_csv_Dataset` function. This constructor uses `record_defaults` the same way as the above Example."
      ],
      "metadata": {
        "id": "02-iMJpMDVUc"
      },
      "id": "02-iMJpMDVUc"
    },
    {
      "cell_type": "code",
      "source": [
        "simple_titanic = tf.data.experimental.CsvDataset(titanic_file_path, record_defaults=titanic_types, header=True)"
      ],
      "metadata": {
        "id": "AymQzgFzDVNI"
      },
      "id": "AymQzgFzDVNI",
      "execution_count": 103,
      "outputs": []
    },
    {
      "cell_type": "code",
      "source": [
        "for example in simple_titanic.take(1):\n",
        "  print([e.numpy() for e in example])"
      ],
      "metadata": {
        "colab": {
          "base_uri": "https://localhost:8080/"
        },
        "id": "0ip6Ut3oEIZB",
        "outputId": "210e3ee5-4229-4d69-f665-adf02fcf116e"
      },
      "id": "0ip6Ut3oEIZB",
      "execution_count": 104,
      "outputs": [
        {
          "output_type": "stream",
          "name": "stdout",
          "text": [
            "[0, b'male', 22.0, 1, 0, 7.25, b'Third', b'unknown', b'Southampton', b'n']\n"
          ]
        }
      ]
    },
    {
      "cell_type": "markdown",
      "source": [
        "### Multiple Files\n",
        "To Parse the fonts dataset using `tf.data.experimental.CsvDatset`, you first need to determine the column types for the `record_defaults`. Start by inspecting the first row of one file"
      ],
      "metadata": {
        "id": "Z09vsK6SEmHX"
      },
      "id": "Z09vsK6SEmHX"
    },
    {
      "cell_type": "code",
      "source": [
        "font_line = pathlib.Path(font_csvs[0]).read_text().splitlines()[0]\n",
        "font_line"
      ],
      "metadata": {
        "colab": {
          "base_uri": "https://localhost:8080/",
          "height": 88
        },
        "id": "mwlzLAHFEIPG",
        "outputId": "05e39c0e-a859-4bca-bdcb-8cf5349c5a42"
      },
      "id": "mwlzLAHFEIPG",
      "execution_count": 116,
      "outputs": [
        {
          "output_type": "execute_result",
          "data": {
            "text/plain": [
              "'font,fontVariant,m_label,strength,italic,orientation,m_top,m_left,originalH,originalW,h,w,r0c0,r0c1,r0c2,r0c3,r0c4,r0c5,r0c6,r0c7,r0c8,r0c9,r0c10,r0c11,r0c12,r0c13,r0c14,r0c15,r0c16,r0c17,r0c18,r0c19,r1c0,r1c1,r1c2,r1c3,r1c4,r1c5,r1c6,r1c7,r1c8,r1c9,r1c10,r1c11,r1c12,r1c13,r1c14,r1c15,r1c16,r1c17,r1c18,r1c19,r2c0,r2c1,r2c2,r2c3,r2c4,r2c5,r2c6,r2c7,r2c8,r2c9,r2c10,r2c11,r2c12,r2c13,r2c14,r2c15,r2c16,r2c17,r2c18,r2c19,r3c0,r3c1,r3c2,r3c3,r3c4,r3c5,r3c6,r3c7,r3c8,r3c9,r3c10,r3c11,r3c12,r3c13,r3c14,r3c15,r3c16,r3c17,r3c18,r3c19,r4c0,r4c1,r4c2,r4c3,r4c4,r4c5,r4c6,r4c7,r4c8,r4c9,r4c10,r4c11,r4c12,r4c13,r4c14,r4c15,r4c16,r4c17,r4c18,r4c19,r5c0,r5c1,r5c2,r5c3,r5c4,r5c5,r5c6,r5c7,r5c8,r5c9,r5c10,r5c11,r5c12,r5c13,r5c14,r5c15,r5c16,r5c17,r5c18,r5c19,r6c0,r6c1,r6c2,r6c3,r6c4,r6c5,r6c6,r6c7,r6c8,r6c9,r6c10,r6c11,r6c12,r6c13,r6c14,r6c15,r6c16,r6c17,r6c18,r6c19,r7c0,r7c1,r7c2,r7c3,r7c4,r7c5,r7c6,r7c7,r7c8,r7c9,r7c10,r7c11,r7c12,r7c13,r7c14,r7c15,r7c16,r7c17,r7c18,r7c19,r8c0,r8c1,r8c2,r8c3,r8c4,r8c5,r8c6,r8c7,r8c8,r8c9,r8c10,r8c11,r8c12,r8c13,r8c14,r8c15,r8c16,r8c17,r8c18,r8c19,r9c0,r9c1,r9c2,r9c3,r9c4,r9c5,r9c6,r9c7,r9c8,r9c9,r9c10,r9c11,r9c12,r9c13,r9c14,r9c15,r9c16,r9c17,r9c18,r9c19,r10c0,r10c1,r10c2,r10c3,r10c4,r10c5,r10c6,r10c7,r10c8,r10c9,r10c10,r10c11,r10c12,r10c13,r10c14,r10c15,r10c16,r10c17,r10c18,r10c19,r11c0,r11c1,r11c2,r11c3,r11c4,r11c5,r11c6,r11c7,r11c8,r11c9,r11c10,r11c11,r11c12,r11c13,r11c14,r11c15,r11c16,r11c17,r11c18,r11c19,r12c0,r12c1,r12c2,r12c3,r12c4,r12c5,r12c6,r12c7,r12c8,r12c9,r12c10,r12c11,r12c12,r12c13,r12c14,r12c15,r12c16,r12c17,r12c18,r12c19,r13c0,r13c1,r13c2,r13c3,r13c4,r13c5,r13c6,r13c7,r13c8,r13c9,r13c10,r13c11,r13c12,r13c13,r13c14,r13c15,r13c16,r13c17,r13c18,r13c19,r14c0,r14c1,r14c2,r14c3,r14c4,r14c5,r14c6,r14c7,r14c8,r14c9,r14c10,r14c11,r14c12,r14c13,r14c14,r14c15,r14c16,r14c17,r14c18,r14c19,r15c0,r15c1,r15c2,r15c3,r15c4,r15c5,r15c6,r15c7,r15c8,r15c9,r15c10,r15c11,r15c12,r15c13,r15c14,r15c15,r15c16,r15c17,r15c18,r15c19,r16c0,r16c1,r16c2,r16c3,r16c4,r16c5,r16c6,r16c7,r16c8,r16c9,r16c10,r16c11,r16c12,r16c13,r16c14,r16c15,r16c16,r16c17,r16c18,r16c19,r17c0,r17c1,r17c2,r17c3,r17c4,r17c5,r17c6,r17c7,r17c8,r17c9,r17c10,r17c11,r17c12,r17c13,r17c14,r17c15,r17c16,r17c17,r17c18,r17c19,r18c0,r18c1,r18c2,r18c3,r18c4,r18c5,r18c6,r18c7,r18c8,r18c9,r18c10,r18c11,r18c12,r18c13,r18c14,r18c15,r18c16,r18c17,r18c18,r18c19,r19c0,r19c1,r19c2,r19c3,r19c4,r19c5,r19c6,r19c7,r19c8,r19c9,r19c10,r19c11,r19c12,r19c13,r19c14,r19c15,r19c16,r19c17,r19c18,r19c19'"
            ],
            "application/vnd.google.colaboratory.intrinsic+json": {
              "type": "string"
            }
          },
          "metadata": {},
          "execution_count": 116
        }
      ]
    },
    {
      "cell_type": "markdown",
      "source": [
        "Only the first two fields are strings, the rest are integers or floats, and you can get the total number of features by counting the commas"
      ],
      "metadata": {
        "id": "LTAAu2EnHyjg"
      },
      "id": "LTAAu2EnHyjg"
    },
    {
      "cell_type": "code",
      "source": [
        "num_font_features = font_line.count(',')+1\n",
        "font_column_types = [str(), str()] + [float()] * (num_font_features - 2)"
      ],
      "metadata": {
        "id": "ndZrQk5AGmkP"
      },
      "id": "ndZrQk5AGmkP",
      "execution_count": 119,
      "outputs": []
    },
    {
      "cell_type": "code",
      "source": [
        "simple_font_ds = tf.data.experimental.CsvDataset(\n",
        "    font_csvs,\n",
        "    record_defaults=font_column_types,\n",
        "    header=True\n",
        ")"
      ],
      "metadata": {
        "id": "EDVK4-9FIj9t"
      },
      "id": "EDVK4-9FIj9t",
      "execution_count": 121,
      "outputs": []
    },
    {
      "cell_type": "code",
      "source": [],
      "metadata": {
        "id": "Rwjn0Og1Itiu"
      },
      "id": "Rwjn0Og1Itiu",
      "execution_count": null,
      "outputs": []
    }
  ],
  "metadata": {
    "kernelspec": {
      "display_name": "tensorflow-series",
      "language": "python",
      "name": "tensorflow-series"
    },
    "language_info": {
      "codemirror_mode": {
        "name": "ipython",
        "version": 3
      },
      "file_extension": ".py",
      "mimetype": "text/x-python",
      "name": "python",
      "nbconvert_exporter": "python",
      "pygments_lexer": "ipython3",
      "version": "3.9.21"
    },
    "colab": {
      "provenance": []
    }
  },
  "nbformat": 4,
  "nbformat_minor": 5
}