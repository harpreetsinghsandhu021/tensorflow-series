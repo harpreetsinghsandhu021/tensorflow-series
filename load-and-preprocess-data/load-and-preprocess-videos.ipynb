{
 "cells": [
  {
   "cell_type": "markdown",
   "id": "4d887ae9-31f1-449a-97b8-9c8d7e6cc193",
   "metadata": {},
   "source": [
    "# Load and Preprocess Videos"
   ]
  },
  {
   "cell_type": "markdown",
   "id": "e7c9e982-0445-478b-b419-163e0ff886bd",
   "metadata": {},
   "source": [
    "GOALS: \n",
    "- Load the data from a zip file.\n",
    "\n",
    "- Read sequences of frames out of the video files.\n",
    "\n",
    "- Visualize the video data.\n",
    "\n",
    "- Wrap the frame-generator `tf.data.Dataset`."
   ]
  },
  {
   "cell_type": "markdown",
   "id": "771aaca7-e8a1-40b1-a334-3b9d9322db5b",
   "metadata": {},
   "source": [
    "## Installing Dependencies "
   ]
  },
  {
   "cell_type": "markdown",
   "id": "c2f0dd02-0ee0-4a92-baf6-33e2099d4e3e",
   "metadata": {},
   "source": [
    "## Importing Dependencies "
   ]
  },
  {
   "cell_type": "code",
   "execution_count": 1,
   "id": "0cdc6651-2c91-44d6-b927-399886d4868c",
   "metadata": {},
   "outputs": [],
   "source": [
    "import tensorflow as tf \n",
    "import remotezip as rz \n",
    "import collections\n",
    "import pathlib\n",
    "import os \n",
    "import random\n",
    "import tqdm"
   ]
  },
  {
   "cell_type": "code",
   "execution_count": 2,
   "id": "2e3e0d03-94bc-4502-99f7-d67d07884661",
   "metadata": {},
   "outputs": [
    {
     "data": {
      "text/plain": [
       "'2.16.2'"
      ]
     },
     "execution_count": 2,
     "metadata": {},
     "output_type": "execute_result"
    }
   ],
   "source": [
    "tf.__version__"
   ]
  },
  {
   "cell_type": "markdown",
   "id": "0792406b-ee85-427f-a6a5-a3cfda89878f",
   "metadata": {},
   "source": [
    "## Download a subset of the UCF101 dataset "
   ]
  },
  {
   "cell_type": "code",
   "execution_count": 3,
   "id": "d93483cf-6b87-4012-bf60-688b8f98f9b3",
   "metadata": {},
   "outputs": [],
   "source": [
    "URL = 'https://storage.googleapis.com/thumos14_files/UCF101_videos.zip'"
   ]
  },
  {
   "cell_type": "markdown",
   "id": "b76c4d27-ccdf-4821-b029-b937c883c83f",
   "metadata": {},
   "source": [
    "The above URL contains a zip file with the UCF 101 dataset. Create a function that uses the remotezip library to examine the contents of the zip file in that URL"
   ]
  },
  {
   "cell_type": "code",
   "execution_count": 4,
   "id": "56f29dd0-66ad-4feb-898b-b65bae33135b",
   "metadata": {},
   "outputs": [],
   "source": [
    "def list_files_from_zip_url(zip_url): \n",
    "    files = []\n",
    "\n",
    "    with rz.RemoteZip(zip_url) as zip: \n",
    "        for zip_info in zip.infolist(): \n",
    "            files.append(zip_info.filename)\n",
    "\n",
    "    return files "
   ]
  },
  {
   "cell_type": "code",
   "execution_count": 5,
   "id": "5f2cbede-0727-4439-bd35-3d1bd9e9881b",
   "metadata": {
    "scrolled": true
   },
   "outputs": [
    {
     "data": {
      "text/plain": [
       "['UCF101/v_ApplyEyeMakeup_g01_c01.avi',\n",
       " 'UCF101/v_ApplyEyeMakeup_g01_c02.avi',\n",
       " 'UCF101/v_ApplyEyeMakeup_g01_c03.avi',\n",
       " 'UCF101/v_ApplyEyeMakeup_g01_c04.avi',\n",
       " 'UCF101/v_ApplyEyeMakeup_g01_c05.avi',\n",
       " 'UCF101/v_ApplyEyeMakeup_g01_c06.avi',\n",
       " 'UCF101/v_ApplyEyeMakeup_g02_c01.avi',\n",
       " 'UCF101/v_ApplyEyeMakeup_g02_c02.avi',\n",
       " 'UCF101/v_ApplyEyeMakeup_g02_c03.avi',\n",
       " 'UCF101/v_ApplyEyeMakeup_g02_c04.avi']"
      ]
     },
     "execution_count": 5,
     "metadata": {},
     "output_type": "execute_result"
    }
   ],
   "source": [
    "files = list_files_from_zip_url(URL)\n",
    "files = [file for file in files if file.endswith('.avi')]\n",
    "files[:10]"
   ]
  },
  {
   "cell_type": "markdown",
   "id": "d8439319-1648-4ed7-b5d0-d6286c956f00",
   "metadata": {},
   "source": [
    "Begin with a few videos and a limited number of classes for training. After running the above code block, notice that the class name is included in the filename of each video."
   ]
  },
  {
   "cell_type": "markdown",
   "id": "5c7f87c3-7525-4908-b43c-4252426a4f6a",
   "metadata": {},
   "source": [
    "Define the `get_class` function that retrieves the class name from a filename. Then, create a function called `get_files_per_class` which converts the list of all files (files above) into a dictionary listing the files for each class:"
   ]
  },
  {
   "cell_type": "code",
   "execution_count": 6,
   "id": "1dfc175e-b4c7-434f-9dc5-21ba6efba90b",
   "metadata": {},
   "outputs": [],
   "source": [
    "def get_class(filename):\n",
    "    return filename.split('_')[-3]"
   ]
  },
  {
   "cell_type": "code",
   "execution_count": 7,
   "id": "ae8b592f-eeec-4338-9dc6-1abbd1ec9233",
   "metadata": {},
   "outputs": [
    {
     "data": {
      "text/plain": [
       "'ApplyEyeMakeup'"
      ]
     },
     "execution_count": 7,
     "metadata": {},
     "output_type": "execute_result"
    }
   ],
   "source": [
    "get_class('UCF101/v_ApplyEyeMakeup_g01_c01.avi')"
   ]
  },
  {
   "cell_type": "code",
   "execution_count": 8,
   "id": "d0a9f637-4a86-40ea-b58d-eefcd88a91fd",
   "metadata": {},
   "outputs": [],
   "source": [
    "def get_files_per_class(files): \n",
    "    \"\"\" \n",
    "    Purpose: Retrieve the files that belong to each class\n",
    "    \"\"\"\n",
    "    files_for_class = collections.defaultdict(list)\n",
    "\n",
    "    for filename in files: \n",
    "        class_name = get_class(filename)\n",
    "        files_for_class[class_name].append(filename)\n",
    "\n",
    "    return files_for_class"
   ]
  },
  {
   "cell_type": "code",
   "execution_count": 9,
   "id": "2a386ce3-ec7f-4bd7-bed4-e2d0166899c7",
   "metadata": {},
   "outputs": [],
   "source": [
    "files_for_class = get_files_per_class(files)\n",
    "classes = list(files_for_class.keys())"
   ]
  },
  {
   "cell_type": "code",
   "execution_count": 10,
   "id": "61586861-699f-408e-acde-6780c4e236a6",
   "metadata": {},
   "outputs": [
    {
     "name": "stdout",
     "output_type": "stream",
     "text": [
      "Num classes: 101\n",
      "Num videos for class[0]: 145\n"
     ]
    }
   ],
   "source": [
    "print('Num classes:', len(classes))\n",
    "print('Num videos for class[0]:', len(files_for_class[classes[0]]))"
   ]
  },
  {
   "cell_type": "markdown",
   "id": "ee1bfb51-9f5a-48bb-8100-bc7415b9336a",
   "metadata": {},
   "source": [
    "Create a new function called `select_subset_of_classes` that selects a subset of the classes present within the dataset and a particular number of files per class"
   ]
  },
  {
   "cell_type": "code",
   "execution_count": 11,
   "id": "bec6b126-6604-4e82-adac-7298a98805d0",
   "metadata": {},
   "outputs": [],
   "source": [
    "NUM_CLASSES = 10\n",
    "FILES_PER_CLASS = 50"
   ]
  },
  {
   "cell_type": "code",
   "execution_count": 12,
   "id": "d4c01d6e-0ff3-4e00-8ba5-1fcdd9985357",
   "metadata": {},
   "outputs": [],
   "source": [
    "def select_subset_of_classes(files_for_class, classes, files_per_class): \n",
    "    files_subset = dict()\n",
    "\n",
    "    for class_name in classes: \n",
    "        class_files = files_for_class[class_name]\n",
    "        files_subset[class_name] = class_files[:files_per_class]\n",
    "\n",
    "    return files_subset"
   ]
  },
  {
   "cell_type": "code",
   "execution_count": 13,
   "id": "fc2e27cc-e2b3-49db-abb6-99b6a3a66f35",
   "metadata": {},
   "outputs": [
    {
     "data": {
      "text/plain": [
       "['ApplyEyeMakeup',\n",
       " 'ApplyLipstick',\n",
       " 'Archery',\n",
       " 'BabyCrawling',\n",
       " 'BalanceBeam',\n",
       " 'BandMarching',\n",
       " 'BaseballPitch',\n",
       " 'BasketballDunk',\n",
       " 'Basketball',\n",
       " 'BenchPress']"
      ]
     },
     "execution_count": 13,
     "metadata": {},
     "output_type": "execute_result"
    }
   ],
   "source": [
    "files_subset = select_subset_of_classes(files_for_class, classes[:NUM_CLASSES], FILES_PER_CLASS)\n",
    "list(files_subset.keys())"
   ]
  },
  {
   "cell_type": "markdown",
   "id": "5cce0469-1831-4547-840f-327ba7949922",
   "metadata": {},
   "source": [
    "Define Helper Functions that split the videos into training, validation and test sets. The Videos are downloaded from a Url with the ZIP file, and placed into their respective sub-directories"
   ]
  },
  {
   "cell_type": "code",
   "execution_count": 14,
   "id": "b2146cad-b5ea-45ed-bdf2-96e571072872",
   "metadata": {},
   "outputs": [],
   "source": [
    "def download_from_zip(zip_url, to_dir, file_names): \n",
    "    \"\"\"\n",
    "    Purpose: Download the contents of the zip file from the zip url\n",
    "\n",
    "    Arguments:\n",
    "             zip_url: A URL with a zip file containing data.\n",
    "             to_dir: A directory to download data to.\n",
    "             file_names: Names of files to download.\n",
    "    \"\"\"\n",
    "    with rz.RemoteZip(zip_url) as zip:\n",
    "        for filename in tqdm.tqdm(file_names): \n",
    "            class_name = get_class(filename)\n",
    "\n",
    "            zip.extract(filename, str(to_dir / class_name))\n",
    "            unzipped_file = to_dir / class_name / filename\n",
    "\n",
    "\n",
    "            filename = pathlib.Path(filename).parts[-1]\n",
    "            output_file = to_dir / class_name/ filename\n",
    "\n",
    "            unzipped_file.rename(output_file)\n"
   ]
  },
  {
   "cell_type": "code",
   "execution_count": 15,
   "id": "185502fa-9271-42d2-baa1-764c7b2fb265",
   "metadata": {},
   "outputs": [],
   "source": [
    "def split_class_lists(files_for_class, count): \n",
    "    \"\"\"\n",
    "    Purpose: Returns the list of files belonging to a subset of data as well as the remainder of files that need to be downloaded\n",
    "\n",
    "    Arguments: \n",
    "             files_for_class: Files belonging to a particular class of data \n",
    "             count: Number of files to download \n",
    "    \"\"\"\n",
    "    split_files = []\n",
    "    remainder = {}\n",
    "\n",
    "    for className in files_for_class: \n",
    "        split_files.extend(files_for_class[className][:count])\n",
    "        remainder[className] = files_for_class[className][count:]\n",
    "\n",
    "    return split_files, remainder"
   ]
  },
  {
   "cell_type": "code",
   "execution_count": 16,
   "id": "730252da-d0e3-40d5-885a-396ff3b04235",
   "metadata": {},
   "outputs": [],
   "source": [
    "def download_ucf_101_subset(zip_url, num_classes, splits, download_dir): \n",
    "    \"\"\" \n",
    "    Purpose: Downloads and organizes a subset of the UCF101 dataset into different splits (like training, validation and test)\n",
    "\n",
    "    Arguments: \n",
    "             zip_url: URL of the zip file containing the dataset\n",
    "             num_classes: Number of classes to include \n",
    "             splits: Dictionary defining how to split the data \n",
    "             download_dir: where to save downloaded files\n",
    "    \"\"\"\n",
    "    # STEP 1: Get List of Files and clean it \n",
    "    files = list_files_from_zip_url(zip_url)\n",
    "    for f in files: \n",
    "        path = os.path.normpath(f)\n",
    "        tokens = path.split(os.sep)\n",
    "        # Remove Entries that dont have proper filenames or does not have a filename\n",
    "        if len(tokens) <= 2: \n",
    "            files.remove(f) \n",
    "\n",
    "\n",
    "    # STEP 2: Organize Files by Class\n",
    "    # This organizes files into their respective classes and selects only the specified number of classes.\n",
    "    files_for_class = get_files_per_class(files)\n",
    "    classes = list(files_for_class.keys())[:num_classes]\n",
    "\n",
    "    # STEP 3: Shuffle Files for each class \n",
    "    # Randomly shuffles the files within each class for better distribution\n",
    "    for cls in classes: \n",
    "        random.shuffle(files_for_class[cls])\n",
    "\n",
    "    # STEP 4: Creates Splits and download files\n",
    "    # * Creates directories for each split (train/test/validation)\n",
    "    # * Splits the files according to the specified counts\n",
    "    # * Downloads the files from the ZIP to appropriate directories\n",
    "    # * Keeps track of where everything is stored\n",
    "    dirs = {}\n",
    "\n",
    "    for split_name, split_count in splits.items(): \n",
    "        split_dir = download_dir / split_name\n",
    "        split_files, files_for_class = split_class_lists(files_for_class, split_count)\n",
    "        download_from_zip(zip_url, split_dir, split_files)\n",
    "        dirs[split_name] = split_dir\n",
    "\n",
    "    return dir"
   ]
  },
  {
   "cell_type": "code",
   "execution_count": null,
   "id": "9bd8f8b7-5bfb-4744-99ad-cbf150680b44",
   "metadata": {},
   "outputs": [
    {
     "name": "stderr",
     "output_type": "stream",
     "text": [
      " 69%|██████████████████████████████████████████████████████████████████████████████████████████▌                                         | 2078/3030 [1:13:25<29:03,  1.83s/it]"
     ]
    }
   ],
   "source": [
    "download_dir = pathlib.Path('./UCF101_subset/')\n",
    "subset_paths = download_ucf_101_subset(URL, num_classes=NUM_CLASSES, splits={'train': 30, \"val\": 10, \"test\": 10}, download_dir=download_dir)"
   ]
  }
 ],
 "metadata": {
  "kernelspec": {
   "display_name": "tensorflow-series",
   "language": "python",
   "name": "tensorflow-series"
  },
  "language_info": {
   "codemirror_mode": {
    "name": "ipython",
    "version": 3
   },
   "file_extension": ".py",
   "mimetype": "text/x-python",
   "name": "python",
   "nbconvert_exporter": "python",
   "pygments_lexer": "ipython3",
   "version": "3.9.21"
  }
 },
 "nbformat": 4,
 "nbformat_minor": 5
}
